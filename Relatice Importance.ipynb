{
 "cells": [
  {
   "cell_type": "markdown",
   "metadata": {},
   "source": [
    "Relative Importance for Linear Refression in R: The Package relaimpo"
   ]
  },
  {
   "cell_type": "code",
   "execution_count": 1,
   "metadata": {},
   "outputs": [],
   "source": [
    "data(swiss)"
   ]
  },
  {
   "cell_type": "code",
   "execution_count": 2,
   "metadata": {
    "scrolled": true
   },
   "outputs": [
    {
     "data": {
      "text/html": [
       "<table>\n",
       "<thead><tr><th></th><th scope=col>Fertility</th><th scope=col>Agriculture</th><th scope=col>Examination</th><th scope=col>Education</th><th scope=col>Catholic</th><th scope=col>Infant.Mortality</th></tr></thead>\n",
       "<tbody>\n",
       "\t<tr><th scope=row>Courtelary</th><td>80.2  </td><td>17.0  </td><td>15    </td><td>12    </td><td>  9.96</td><td>22.2  </td></tr>\n",
       "\t<tr><th scope=row>Delemont</th><td>83.1  </td><td>45.1  </td><td> 6    </td><td> 9    </td><td> 84.84</td><td>22.2  </td></tr>\n",
       "\t<tr><th scope=row>Franches-Mnt</th><td>92.5  </td><td>39.7  </td><td> 5    </td><td> 5    </td><td> 93.40</td><td>20.2  </td></tr>\n",
       "\t<tr><th scope=row>Moutier</th><td>85.8  </td><td>36.5  </td><td>12    </td><td> 7    </td><td> 33.77</td><td>20.3  </td></tr>\n",
       "\t<tr><th scope=row>Neuveville</th><td>76.9  </td><td>43.5  </td><td>17    </td><td>15    </td><td>  5.16</td><td>20.6  </td></tr>\n",
       "\t<tr><th scope=row>Porrentruy</th><td>76.1  </td><td>35.3  </td><td> 9    </td><td> 7    </td><td> 90.57</td><td>26.6  </td></tr>\n",
       "\t<tr><th scope=row>Broye</th><td>83.8  </td><td>70.2  </td><td>16    </td><td> 7    </td><td> 92.85</td><td>23.6  </td></tr>\n",
       "\t<tr><th scope=row>Glane</th><td>92.4  </td><td>67.8  </td><td>14    </td><td> 8    </td><td> 97.16</td><td>24.9  </td></tr>\n",
       "\t<tr><th scope=row>Gruyere</th><td>82.4  </td><td>53.3  </td><td>12    </td><td> 7    </td><td> 97.67</td><td>21.0  </td></tr>\n",
       "\t<tr><th scope=row>Sarine</th><td>82.9  </td><td>45.2  </td><td>16    </td><td>13    </td><td> 91.38</td><td>24.4  </td></tr>\n",
       "\t<tr><th scope=row>Veveyse</th><td>87.1  </td><td>64.5  </td><td>14    </td><td> 6    </td><td> 98.61</td><td>24.5  </td></tr>\n",
       "\t<tr><th scope=row>Aigle</th><td>64.1  </td><td>62.0  </td><td>21    </td><td>12    </td><td>  8.52</td><td>16.5  </td></tr>\n",
       "\t<tr><th scope=row>Aubonne</th><td>66.9  </td><td>67.5  </td><td>14    </td><td> 7    </td><td>  2.27</td><td>19.1  </td></tr>\n",
       "\t<tr><th scope=row>Avenches</th><td>68.9  </td><td>60.7  </td><td>19    </td><td>12    </td><td>  4.43</td><td>22.7  </td></tr>\n",
       "\t<tr><th scope=row>Cossonay</th><td>61.7  </td><td>69.3  </td><td>22    </td><td> 5    </td><td>  2.82</td><td>18.7  </td></tr>\n",
       "\t<tr><th scope=row>Echallens</th><td>68.3  </td><td>72.6  </td><td>18    </td><td> 2    </td><td> 24.20</td><td>21.2  </td></tr>\n",
       "\t<tr><th scope=row>Grandson</th><td>71.7  </td><td>34.0  </td><td>17    </td><td> 8    </td><td>  3.30</td><td>20.0  </td></tr>\n",
       "\t<tr><th scope=row>Lausanne</th><td>55.7  </td><td>19.4  </td><td>26    </td><td>28    </td><td> 12.11</td><td>20.2  </td></tr>\n",
       "\t<tr><th scope=row>La Vallee</th><td>54.3  </td><td>15.2  </td><td>31    </td><td>20    </td><td>  2.15</td><td>10.8  </td></tr>\n",
       "\t<tr><th scope=row>Lavaux</th><td>65.1  </td><td>73.0  </td><td>19    </td><td> 9    </td><td>  2.84</td><td>20.0  </td></tr>\n",
       "\t<tr><th scope=row>Morges</th><td>65.5  </td><td>59.8  </td><td>22    </td><td>10    </td><td>  5.23</td><td>18.0  </td></tr>\n",
       "\t<tr><th scope=row>Moudon</th><td>65.0  </td><td>55.1  </td><td>14    </td><td> 3    </td><td>  4.52</td><td>22.4  </td></tr>\n",
       "\t<tr><th scope=row>Nyone</th><td>56.6  </td><td>50.9  </td><td>22    </td><td>12    </td><td> 15.14</td><td>16.7  </td></tr>\n",
       "\t<tr><th scope=row>Orbe</th><td>57.4  </td><td>54.1  </td><td>20    </td><td> 6    </td><td>  4.20</td><td>15.3  </td></tr>\n",
       "\t<tr><th scope=row>Oron</th><td>72.5  </td><td>71.2  </td><td>12    </td><td> 1    </td><td>  2.40</td><td>21.0  </td></tr>\n",
       "\t<tr><th scope=row>Payerne</th><td>74.2  </td><td>58.1  </td><td>14    </td><td> 8    </td><td>  5.23</td><td>23.8  </td></tr>\n",
       "\t<tr><th scope=row>Paysd'enhaut</th><td>72.0  </td><td>63.5  </td><td> 6    </td><td> 3    </td><td>  2.56</td><td>18.0  </td></tr>\n",
       "\t<tr><th scope=row>Rolle</th><td>60.5  </td><td>60.8  </td><td>16    </td><td>10    </td><td>  7.72</td><td>16.3  </td></tr>\n",
       "\t<tr><th scope=row>Vevey</th><td>58.3  </td><td>26.8  </td><td>25    </td><td>19    </td><td> 18.46</td><td>20.9  </td></tr>\n",
       "\t<tr><th scope=row>Yverdon</th><td>65.4  </td><td>49.5  </td><td>15    </td><td> 8    </td><td>  6.10</td><td>22.5  </td></tr>\n",
       "\t<tr><th scope=row>Conthey</th><td>75.5  </td><td>85.9  </td><td> 3    </td><td> 2    </td><td> 99.71</td><td>15.1  </td></tr>\n",
       "\t<tr><th scope=row>Entremont</th><td>69.3  </td><td>84.9  </td><td> 7    </td><td> 6    </td><td> 99.68</td><td>19.8  </td></tr>\n",
       "\t<tr><th scope=row>Herens</th><td>77.3  </td><td>89.7  </td><td> 5    </td><td> 2    </td><td>100.00</td><td>18.3  </td></tr>\n",
       "\t<tr><th scope=row>Martigwy</th><td>70.5  </td><td>78.2  </td><td>12    </td><td> 6    </td><td> 98.96</td><td>19.4  </td></tr>\n",
       "\t<tr><th scope=row>Monthey</th><td>79.4  </td><td>64.9  </td><td> 7    </td><td> 3    </td><td> 98.22</td><td>20.2  </td></tr>\n",
       "\t<tr><th scope=row>St Maurice</th><td>65.0  </td><td>75.9  </td><td> 9    </td><td> 9    </td><td> 99.06</td><td>17.8  </td></tr>\n",
       "\t<tr><th scope=row>Sierre</th><td>92.2  </td><td>84.6  </td><td> 3    </td><td> 3    </td><td> 99.46</td><td>16.3  </td></tr>\n",
       "\t<tr><th scope=row>Sion</th><td>79.3  </td><td>63.1  </td><td>13    </td><td>13    </td><td> 96.83</td><td>18.1  </td></tr>\n",
       "\t<tr><th scope=row>Boudry</th><td>70.4  </td><td>38.4  </td><td>26    </td><td>12    </td><td>  5.62</td><td>20.3  </td></tr>\n",
       "\t<tr><th scope=row>La Chauxdfnd</th><td>65.7  </td><td> 7.7  </td><td>29    </td><td>11    </td><td> 13.79</td><td>20.5  </td></tr>\n",
       "\t<tr><th scope=row>Le Locle</th><td>72.7  </td><td>16.7  </td><td>22    </td><td>13    </td><td> 11.22</td><td>18.9  </td></tr>\n",
       "\t<tr><th scope=row>Neuchatel</th><td>64.4  </td><td>17.6  </td><td>35    </td><td>32    </td><td> 16.92</td><td>23.0  </td></tr>\n",
       "\t<tr><th scope=row>Val de Ruz</th><td>77.6  </td><td>37.6  </td><td>15    </td><td> 7    </td><td>  4.97</td><td>20.0  </td></tr>\n",
       "\t<tr><th scope=row>ValdeTravers</th><td>67.6  </td><td>18.7  </td><td>25    </td><td> 7    </td><td>  8.65</td><td>19.5  </td></tr>\n",
       "\t<tr><th scope=row>V. De Geneve</th><td>35.0  </td><td> 1.2  </td><td>37    </td><td>53    </td><td> 42.34</td><td>18.0  </td></tr>\n",
       "\t<tr><th scope=row>Rive Droite</th><td>44.7  </td><td>46.6  </td><td>16    </td><td>29    </td><td> 50.43</td><td>18.2  </td></tr>\n",
       "\t<tr><th scope=row>Rive Gauche</th><td>42.8  </td><td>27.7  </td><td>22    </td><td>29    </td><td> 58.33</td><td>19.3  </td></tr>\n",
       "</tbody>\n",
       "</table>\n"
      ],
      "text/latex": [
       "\\begin{tabular}{r|llllll}\n",
       "  & Fertility & Agriculture & Examination & Education & Catholic & Infant.Mortality\\\\\n",
       "\\hline\n",
       "\tCourtelary & 80.2   & 17.0   & 15     & 12     &   9.96 & 22.2  \\\\\n",
       "\tDelemont & 83.1   & 45.1   &  6     &  9     &  84.84 & 22.2  \\\\\n",
       "\tFranches-Mnt & 92.5   & 39.7   &  5     &  5     &  93.40 & 20.2  \\\\\n",
       "\tMoutier & 85.8   & 36.5   & 12     &  7     &  33.77 & 20.3  \\\\\n",
       "\tNeuveville & 76.9   & 43.5   & 17     & 15     &   5.16 & 20.6  \\\\\n",
       "\tPorrentruy & 76.1   & 35.3   &  9     &  7     &  90.57 & 26.6  \\\\\n",
       "\tBroye & 83.8   & 70.2   & 16     &  7     &  92.85 & 23.6  \\\\\n",
       "\tGlane & 92.4   & 67.8   & 14     &  8     &  97.16 & 24.9  \\\\\n",
       "\tGruyere & 82.4   & 53.3   & 12     &  7     &  97.67 & 21.0  \\\\\n",
       "\tSarine & 82.9   & 45.2   & 16     & 13     &  91.38 & 24.4  \\\\\n",
       "\tVeveyse & 87.1   & 64.5   & 14     &  6     &  98.61 & 24.5  \\\\\n",
       "\tAigle & 64.1   & 62.0   & 21     & 12     &   8.52 & 16.5  \\\\\n",
       "\tAubonne & 66.9   & 67.5   & 14     &  7     &   2.27 & 19.1  \\\\\n",
       "\tAvenches & 68.9   & 60.7   & 19     & 12     &   4.43 & 22.7  \\\\\n",
       "\tCossonay & 61.7   & 69.3   & 22     &  5     &   2.82 & 18.7  \\\\\n",
       "\tEchallens & 68.3   & 72.6   & 18     &  2     &  24.20 & 21.2  \\\\\n",
       "\tGrandson & 71.7   & 34.0   & 17     &  8     &   3.30 & 20.0  \\\\\n",
       "\tLausanne & 55.7   & 19.4   & 26     & 28     &  12.11 & 20.2  \\\\\n",
       "\tLa Vallee & 54.3   & 15.2   & 31     & 20     &   2.15 & 10.8  \\\\\n",
       "\tLavaux & 65.1   & 73.0   & 19     &  9     &   2.84 & 20.0  \\\\\n",
       "\tMorges & 65.5   & 59.8   & 22     & 10     &   5.23 & 18.0  \\\\\n",
       "\tMoudon & 65.0   & 55.1   & 14     &  3     &   4.52 & 22.4  \\\\\n",
       "\tNyone & 56.6   & 50.9   & 22     & 12     &  15.14 & 16.7  \\\\\n",
       "\tOrbe & 57.4   & 54.1   & 20     &  6     &   4.20 & 15.3  \\\\\n",
       "\tOron & 72.5   & 71.2   & 12     &  1     &   2.40 & 21.0  \\\\\n",
       "\tPayerne & 74.2   & 58.1   & 14     &  8     &   5.23 & 23.8  \\\\\n",
       "\tPaysd'enhaut & 72.0   & 63.5   &  6     &  3     &   2.56 & 18.0  \\\\\n",
       "\tRolle & 60.5   & 60.8   & 16     & 10     &   7.72 & 16.3  \\\\\n",
       "\tVevey & 58.3   & 26.8   & 25     & 19     &  18.46 & 20.9  \\\\\n",
       "\tYverdon & 65.4   & 49.5   & 15     &  8     &   6.10 & 22.5  \\\\\n",
       "\tConthey & 75.5   & 85.9   &  3     &  2     &  99.71 & 15.1  \\\\\n",
       "\tEntremont & 69.3   & 84.9   &  7     &  6     &  99.68 & 19.8  \\\\\n",
       "\tHerens & 77.3   & 89.7   &  5     &  2     & 100.00 & 18.3  \\\\\n",
       "\tMartigwy & 70.5   & 78.2   & 12     &  6     &  98.96 & 19.4  \\\\\n",
       "\tMonthey & 79.4   & 64.9   &  7     &  3     &  98.22 & 20.2  \\\\\n",
       "\tSt Maurice & 65.0   & 75.9   &  9     &  9     &  99.06 & 17.8  \\\\\n",
       "\tSierre & 92.2   & 84.6   &  3     &  3     &  99.46 & 16.3  \\\\\n",
       "\tSion & 79.3   & 63.1   & 13     & 13     &  96.83 & 18.1  \\\\\n",
       "\tBoudry & 70.4   & 38.4   & 26     & 12     &   5.62 & 20.3  \\\\\n",
       "\tLa Chauxdfnd & 65.7   &  7.7   & 29     & 11     &  13.79 & 20.5  \\\\\n",
       "\tLe Locle & 72.7   & 16.7   & 22     & 13     &  11.22 & 18.9  \\\\\n",
       "\tNeuchatel & 64.4   & 17.6   & 35     & 32     &  16.92 & 23.0  \\\\\n",
       "\tVal de Ruz & 77.6   & 37.6   & 15     &  7     &   4.97 & 20.0  \\\\\n",
       "\tValdeTravers & 67.6   & 18.7   & 25     &  7     &   8.65 & 19.5  \\\\\n",
       "\tV. De Geneve & 35.0   &  1.2   & 37     & 53     &  42.34 & 18.0  \\\\\n",
       "\tRive Droite & 44.7   & 46.6   & 16     & 29     &  50.43 & 18.2  \\\\\n",
       "\tRive Gauche & 42.8   & 27.7   & 22     & 29     &  58.33 & 19.3  \\\\\n",
       "\\end{tabular}\n"
      ],
      "text/markdown": [
       "\n",
       "| <!--/--> | Fertility | Agriculture | Examination | Education | Catholic | Infant.Mortality |\n",
       "|---|---|---|---|---|---|---|\n",
       "| Courtelary | 80.2   | 17.0   | 15     | 12     |   9.96 | 22.2   |\n",
       "| Delemont | 83.1   | 45.1   |  6     |  9     |  84.84 | 22.2   |\n",
       "| Franches-Mnt | 92.5   | 39.7   |  5     |  5     |  93.40 | 20.2   |\n",
       "| Moutier | 85.8   | 36.5   | 12     |  7     |  33.77 | 20.3   |\n",
       "| Neuveville | 76.9   | 43.5   | 17     | 15     |   5.16 | 20.6   |\n",
       "| Porrentruy | 76.1   | 35.3   |  9     |  7     |  90.57 | 26.6   |\n",
       "| Broye | 83.8   | 70.2   | 16     |  7     |  92.85 | 23.6   |\n",
       "| Glane | 92.4   | 67.8   | 14     |  8     |  97.16 | 24.9   |\n",
       "| Gruyere | 82.4   | 53.3   | 12     |  7     |  97.67 | 21.0   |\n",
       "| Sarine | 82.9   | 45.2   | 16     | 13     |  91.38 | 24.4   |\n",
       "| Veveyse | 87.1   | 64.5   | 14     |  6     |  98.61 | 24.5   |\n",
       "| Aigle | 64.1   | 62.0   | 21     | 12     |   8.52 | 16.5   |\n",
       "| Aubonne | 66.9   | 67.5   | 14     |  7     |   2.27 | 19.1   |\n",
       "| Avenches | 68.9   | 60.7   | 19     | 12     |   4.43 | 22.7   |\n",
       "| Cossonay | 61.7   | 69.3   | 22     |  5     |   2.82 | 18.7   |\n",
       "| Echallens | 68.3   | 72.6   | 18     |  2     |  24.20 | 21.2   |\n",
       "| Grandson | 71.7   | 34.0   | 17     |  8     |   3.30 | 20.0   |\n",
       "| Lausanne | 55.7   | 19.4   | 26     | 28     |  12.11 | 20.2   |\n",
       "| La Vallee | 54.3   | 15.2   | 31     | 20     |   2.15 | 10.8   |\n",
       "| Lavaux | 65.1   | 73.0   | 19     |  9     |   2.84 | 20.0   |\n",
       "| Morges | 65.5   | 59.8   | 22     | 10     |   5.23 | 18.0   |\n",
       "| Moudon | 65.0   | 55.1   | 14     |  3     |   4.52 | 22.4   |\n",
       "| Nyone | 56.6   | 50.9   | 22     | 12     |  15.14 | 16.7   |\n",
       "| Orbe | 57.4   | 54.1   | 20     |  6     |   4.20 | 15.3   |\n",
       "| Oron | 72.5   | 71.2   | 12     |  1     |   2.40 | 21.0   |\n",
       "| Payerne | 74.2   | 58.1   | 14     |  8     |   5.23 | 23.8   |\n",
       "| Paysd'enhaut | 72.0   | 63.5   |  6     |  3     |   2.56 | 18.0   |\n",
       "| Rolle | 60.5   | 60.8   | 16     | 10     |   7.72 | 16.3   |\n",
       "| Vevey | 58.3   | 26.8   | 25     | 19     |  18.46 | 20.9   |\n",
       "| Yverdon | 65.4   | 49.5   | 15     |  8     |   6.10 | 22.5   |\n",
       "| Conthey | 75.5   | 85.9   |  3     |  2     |  99.71 | 15.1   |\n",
       "| Entremont | 69.3   | 84.9   |  7     |  6     |  99.68 | 19.8   |\n",
       "| Herens | 77.3   | 89.7   |  5     |  2     | 100.00 | 18.3   |\n",
       "| Martigwy | 70.5   | 78.2   | 12     |  6     |  98.96 | 19.4   |\n",
       "| Monthey | 79.4   | 64.9   |  7     |  3     |  98.22 | 20.2   |\n",
       "| St Maurice | 65.0   | 75.9   |  9     |  9     |  99.06 | 17.8   |\n",
       "| Sierre | 92.2   | 84.6   |  3     |  3     |  99.46 | 16.3   |\n",
       "| Sion | 79.3   | 63.1   | 13     | 13     |  96.83 | 18.1   |\n",
       "| Boudry | 70.4   | 38.4   | 26     | 12     |   5.62 | 20.3   |\n",
       "| La Chauxdfnd | 65.7   |  7.7   | 29     | 11     |  13.79 | 20.5   |\n",
       "| Le Locle | 72.7   | 16.7   | 22     | 13     |  11.22 | 18.9   |\n",
       "| Neuchatel | 64.4   | 17.6   | 35     | 32     |  16.92 | 23.0   |\n",
       "| Val de Ruz | 77.6   | 37.6   | 15     |  7     |   4.97 | 20.0   |\n",
       "| ValdeTravers | 67.6   | 18.7   | 25     |  7     |   8.65 | 19.5   |\n",
       "| V. De Geneve | 35.0   |  1.2   | 37     | 53     |  42.34 | 18.0   |\n",
       "| Rive Droite | 44.7   | 46.6   | 16     | 29     |  50.43 | 18.2   |\n",
       "| Rive Gauche | 42.8   | 27.7   | 22     | 29     |  58.33 | 19.3   |\n",
       "\n"
      ],
      "text/plain": [
       "             Fertility Agriculture Examination Education Catholic\n",
       "Courtelary   80.2      17.0        15          12          9.96  \n",
       "Delemont     83.1      45.1         6           9         84.84  \n",
       "Franches-Mnt 92.5      39.7         5           5         93.40  \n",
       "Moutier      85.8      36.5        12           7         33.77  \n",
       "Neuveville   76.9      43.5        17          15          5.16  \n",
       "Porrentruy   76.1      35.3         9           7         90.57  \n",
       "Broye        83.8      70.2        16           7         92.85  \n",
       "Glane        92.4      67.8        14           8         97.16  \n",
       "Gruyere      82.4      53.3        12           7         97.67  \n",
       "Sarine       82.9      45.2        16          13         91.38  \n",
       "Veveyse      87.1      64.5        14           6         98.61  \n",
       "Aigle        64.1      62.0        21          12          8.52  \n",
       "Aubonne      66.9      67.5        14           7          2.27  \n",
       "Avenches     68.9      60.7        19          12          4.43  \n",
       "Cossonay     61.7      69.3        22           5          2.82  \n",
       "Echallens    68.3      72.6        18           2         24.20  \n",
       "Grandson     71.7      34.0        17           8          3.30  \n",
       "Lausanne     55.7      19.4        26          28         12.11  \n",
       "La Vallee    54.3      15.2        31          20          2.15  \n",
       "Lavaux       65.1      73.0        19           9          2.84  \n",
       "Morges       65.5      59.8        22          10          5.23  \n",
       "Moudon       65.0      55.1        14           3          4.52  \n",
       "Nyone        56.6      50.9        22          12         15.14  \n",
       "Orbe         57.4      54.1        20           6          4.20  \n",
       "Oron         72.5      71.2        12           1          2.40  \n",
       "Payerne      74.2      58.1        14           8          5.23  \n",
       "Paysd'enhaut 72.0      63.5         6           3          2.56  \n",
       "Rolle        60.5      60.8        16          10          7.72  \n",
       "Vevey        58.3      26.8        25          19         18.46  \n",
       "Yverdon      65.4      49.5        15           8          6.10  \n",
       "Conthey      75.5      85.9         3           2         99.71  \n",
       "Entremont    69.3      84.9         7           6         99.68  \n",
       "Herens       77.3      89.7         5           2        100.00  \n",
       "Martigwy     70.5      78.2        12           6         98.96  \n",
       "Monthey      79.4      64.9         7           3         98.22  \n",
       "St Maurice   65.0      75.9         9           9         99.06  \n",
       "Sierre       92.2      84.6         3           3         99.46  \n",
       "Sion         79.3      63.1        13          13         96.83  \n",
       "Boudry       70.4      38.4        26          12          5.62  \n",
       "La Chauxdfnd 65.7       7.7        29          11         13.79  \n",
       "Le Locle     72.7      16.7        22          13         11.22  \n",
       "Neuchatel    64.4      17.6        35          32         16.92  \n",
       "Val de Ruz   77.6      37.6        15           7          4.97  \n",
       "ValdeTravers 67.6      18.7        25           7          8.65  \n",
       "V. De Geneve 35.0       1.2        37          53         42.34  \n",
       "Rive Droite  44.7      46.6        16          29         50.43  \n",
       "Rive Gauche  42.8      27.7        22          29         58.33  \n",
       "             Infant.Mortality\n",
       "Courtelary   22.2            \n",
       "Delemont     22.2            \n",
       "Franches-Mnt 20.2            \n",
       "Moutier      20.3            \n",
       "Neuveville   20.6            \n",
       "Porrentruy   26.6            \n",
       "Broye        23.6            \n",
       "Glane        24.9            \n",
       "Gruyere      21.0            \n",
       "Sarine       24.4            \n",
       "Veveyse      24.5            \n",
       "Aigle        16.5            \n",
       "Aubonne      19.1            \n",
       "Avenches     22.7            \n",
       "Cossonay     18.7            \n",
       "Echallens    21.2            \n",
       "Grandson     20.0            \n",
       "Lausanne     20.2            \n",
       "La Vallee    10.8            \n",
       "Lavaux       20.0            \n",
       "Morges       18.0            \n",
       "Moudon       22.4            \n",
       "Nyone        16.7            \n",
       "Orbe         15.3            \n",
       "Oron         21.0            \n",
       "Payerne      23.8            \n",
       "Paysd'enhaut 18.0            \n",
       "Rolle        16.3            \n",
       "Vevey        20.9            \n",
       "Yverdon      22.5            \n",
       "Conthey      15.1            \n",
       "Entremont    19.8            \n",
       "Herens       18.3            \n",
       "Martigwy     19.4            \n",
       "Monthey      20.2            \n",
       "St Maurice   17.8            \n",
       "Sierre       16.3            \n",
       "Sion         18.1            \n",
       "Boudry       20.3            \n",
       "La Chauxdfnd 20.5            \n",
       "Le Locle     18.9            \n",
       "Neuchatel    23.0            \n",
       "Val de Ruz   20.0            \n",
       "ValdeTravers 19.5            \n",
       "V. De Geneve 18.0            \n",
       "Rive Droite  18.2            \n",
       "Rive Gauche  19.3            "
      ]
     },
     "metadata": {},
     "output_type": "display_data"
    }
   ],
   "source": [
    "swiss"
   ]
  },
  {
   "cell_type": "markdown",
   "metadata": {},
   "source": [
    "- Fertillity (出生率)\n",
    "- Agriculture is the percentage of males working in agriculture\n",
    "- Examination is the percfentage of draftees getting highest mark on an army exam (陸軍試験で最高得点のドラフトの%)\n",
    "- Education is the percentage of draftees having more then primary school education,\n",
    "- Catholic is the percentage of catholics in the population\n",
    "- Infant.Mortality is the percentage of live births who die within the first year."
   ]
  },
  {
   "cell_type": "markdown",
   "metadata": {},
   "source": [
    "This dataset is userful for demonstraiting differences between relative importance approaches, \n",
    "since different perspectives yield different assesments of relative importance, in particular with \n",
    "respect to the influence of the variable Examination.\n",
    "This phenomenon is the consequence of multicollinerarity.\n",
    "\n",
    "このデータセットは，Examinationの影響で異なる評価が得られるから，Relative Importanceの例として良い.\n",
    "\n",
    "multicollinearity : 多重共線性"
   ]
  },
  {
   "cell_type": "code",
   "execution_count": 3,
   "metadata": {},
   "outputs": [
    {
     "data": {
      "text/html": [
       "<table>\n",
       "<thead><tr><th></th><th scope=col>Fertility</th><th scope=col>Agriculture</th><th scope=col>Examination</th><th scope=col>Education</th><th scope=col>Catholic</th><th scope=col>Infant.Mortality</th></tr></thead>\n",
       "<tbody>\n",
       "\t<tr><th scope=row>Fertility</th><td> 1.0000000 </td><td> 0.35307918</td><td>-0.6458827 </td><td>-0.66378886</td><td> 0.4636847 </td><td> 0.41655603</td></tr>\n",
       "\t<tr><th scope=row>Agriculture</th><td> 0.3530792 </td><td> 1.00000000</td><td>-0.6865422 </td><td>-0.63952252</td><td> 0.4010951 </td><td>-0.06085861</td></tr>\n",
       "\t<tr><th scope=row>Examination</th><td>-0.6458827 </td><td>-0.68654221</td><td> 1.0000000 </td><td> 0.69841530</td><td>-0.5727418 </td><td>-0.11402160</td></tr>\n",
       "\t<tr><th scope=row>Education</th><td>-0.6637889 </td><td>-0.63952252</td><td> 0.6984153 </td><td> 1.00000000</td><td>-0.1538589 </td><td>-0.09932185</td></tr>\n",
       "\t<tr><th scope=row>Catholic</th><td> 0.4636847 </td><td> 0.40109505</td><td>-0.5727418 </td><td>-0.15385892</td><td> 1.0000000 </td><td> 0.17549591</td></tr>\n",
       "\t<tr><th scope=row>Infant.Mortality</th><td> 0.4165560 </td><td>-0.06085861</td><td>-0.1140216 </td><td>-0.09932185</td><td> 0.1754959 </td><td> 1.00000000</td></tr>\n",
       "</tbody>\n",
       "</table>\n"
      ],
      "text/latex": [
       "\\begin{tabular}{r|llllll}\n",
       "  & Fertility & Agriculture & Examination & Education & Catholic & Infant.Mortality\\\\\n",
       "\\hline\n",
       "\tFertility &  1.0000000  &  0.35307918 & -0.6458827  & -0.66378886 &  0.4636847  &  0.41655603\\\\\n",
       "\tAgriculture &  0.3530792  &  1.00000000 & -0.6865422  & -0.63952252 &  0.4010951  & -0.06085861\\\\\n",
       "\tExamination & -0.6458827  & -0.68654221 &  1.0000000  &  0.69841530 & -0.5727418  & -0.11402160\\\\\n",
       "\tEducation & -0.6637889  & -0.63952252 &  0.6984153  &  1.00000000 & -0.1538589  & -0.09932185\\\\\n",
       "\tCatholic &  0.4636847  &  0.40109505 & -0.5727418  & -0.15385892 &  1.0000000  &  0.17549591\\\\\n",
       "\tInfant.Mortality &  0.4165560  & -0.06085861 & -0.1140216  & -0.09932185 &  0.1754959  &  1.00000000\\\\\n",
       "\\end{tabular}\n"
      ],
      "text/markdown": [
       "\n",
       "| <!--/--> | Fertility | Agriculture | Examination | Education | Catholic | Infant.Mortality |\n",
       "|---|---|---|---|---|---|---|\n",
       "| Fertility |  1.0000000  |  0.35307918 | -0.6458827  | -0.66378886 |  0.4636847  |  0.41655603 |\n",
       "| Agriculture |  0.3530792  |  1.00000000 | -0.6865422  | -0.63952252 |  0.4010951  | -0.06085861 |\n",
       "| Examination | -0.6458827  | -0.68654221 |  1.0000000  |  0.69841530 | -0.5727418  | -0.11402160 |\n",
       "| Education | -0.6637889  | -0.63952252 |  0.6984153  |  1.00000000 | -0.1538589  | -0.09932185 |\n",
       "| Catholic |  0.4636847  |  0.40109505 | -0.5727418  | -0.15385892 |  1.0000000  |  0.17549591 |\n",
       "| Infant.Mortality |  0.4165560  | -0.06085861 | -0.1140216  | -0.09932185 |  0.1754959  |  1.00000000 |\n",
       "\n"
      ],
      "text/plain": [
       "                 Fertility  Agriculture Examination Education   Catholic  \n",
       "Fertility         1.0000000  0.35307918 -0.6458827  -0.66378886  0.4636847\n",
       "Agriculture       0.3530792  1.00000000 -0.6865422  -0.63952252  0.4010951\n",
       "Examination      -0.6458827 -0.68654221  1.0000000   0.69841530 -0.5727418\n",
       "Education        -0.6637889 -0.63952252  0.6984153   1.00000000 -0.1538589\n",
       "Catholic          0.4636847  0.40109505 -0.5727418  -0.15385892  1.0000000\n",
       "Infant.Mortality  0.4165560 -0.06085861 -0.1140216  -0.09932185  0.1754959\n",
       "                 Infant.Mortality\n",
       "Fertility         0.41655603     \n",
       "Agriculture      -0.06085861     \n",
       "Examination      -0.11402160     \n",
       "Education        -0.09932185     \n",
       "Catholic          0.17549591     \n",
       "Infant.Mortality  1.00000000     "
      ]
     },
     "metadata": {},
     "output_type": "display_data"
    }
   ],
   "source": [
    "cor(swiss)"
   ]
  },
  {
   "cell_type": "markdown",
   "metadata": {},
   "source": [
    "Examination has a relatively high positive correlation with Education, \n",
    "and both these variables have a relatively high negative correlation with Agriculture, \n",
    "Examination is also negatively correlated with Catholic. \n",
    "This structure leads to the strong dependence of allocation of relative importance on the way of looking at the matter."
   ]
  },
  {
   "cell_type": "markdown",
   "metadata": {},
   "source": [
    "$R^2$ measurees the proportion of variation in $y$ that is explained by the $p$ regressors in the model.\n",
    "\n",
    "proportion : 割合．\n",
    "\n",
    "The following output shows the linear regression results for the example data:"
   ]
  },
  {
   "cell_type": "markdown",
   "metadata": {},
   "source": [
    "linear modelについての説明．http://cse.naro.affrc.go.jp/takezawa/r-tips/r/71.html \n",
    "\n",
    "y~x: モデル式$y=a+bx+\\epsilon$について，目的変数$y$と説明変数$x$をベクトル指定する．\n",
    "\n",
    "y ~., data = データ名 :あるデータに目的変数$y$と説明変数$x_1, ...$が入っている場合で，モデル式が$y = a + b_1x_1 + \\dots + \\epsilon$であるばいいは，まず，目的変数$y$をベクトルで指定し，右辺は[y以外]という意味で.(ピリオド)を指定することができる．"
   ]
  },
  {
   "cell_type": "code",
   "execution_count": 10,
   "metadata": {},
   "outputs": [],
   "source": [
    "linmod <- lm(Fertility ~ ., data=swiss)"
   ]
  },
  {
   "cell_type": "code",
   "execution_count": 11,
   "metadata": {},
   "outputs": [
    {
     "data": {
      "text/plain": [
       "\n",
       "Call:\n",
       "lm(formula = Fertility ~ ., data = swiss)\n",
       "\n",
       "Residuals:\n",
       "     Min       1Q   Median       3Q      Max \n",
       "-15.2743  -5.2617   0.5032   4.1198  15.3213 \n",
       "\n",
       "Coefficients:\n",
       "                 Estimate Std. Error t value Pr(>|t|)    \n",
       "(Intercept)      66.91518   10.70604   6.250 1.91e-07 ***\n",
       "Agriculture      -0.17211    0.07030  -2.448  0.01873 *  \n",
       "Examination      -0.25801    0.25388  -1.016  0.31546    \n",
       "Education        -0.87094    0.18303  -4.758 2.43e-05 ***\n",
       "Catholic          0.10412    0.03526   2.953  0.00519 ** \n",
       "Infant.Mortality  1.07705    0.38172   2.822  0.00734 ** \n",
       "---\n",
       "Signif. codes:  0 ‘***’ 0.001 ‘**’ 0.01 ‘*’ 0.05 ‘.’ 0.1 ‘ ’ 1\n",
       "\n",
       "Residual standard error: 7.165 on 41 degrees of freedom\n",
       "Multiple R-squared:  0.7067,\tAdjusted R-squared:  0.671 \n",
       "F-statistic: 19.76 on 5 and 41 DF,  p-value: 5.594e-10\n"
      ]
     },
     "metadata": {},
     "output_type": "display_data"
    }
   ],
   "source": [
    "summary(linmod)"
   ]
  },
  {
   "cell_type": "markdown",
   "metadata": {},
   "source": [
    "R2は70.67％であり、このモデルでは検査を除くすべてのリグレッサーが重要であり、\n",
    "乳児死亡率が高くなると出生率が高くなり、農業、教育、検査の値が高くなると出生率が低下します。 \n",
    "農業の効果の方向性は意外かもしれませんが、これはある程度期待に沿ったものです。"
   ]
  },
  {
   "cell_type": "markdown",
   "metadata": {},
   "source": [
    "Note that the stored linear model object linmod will be used in many subsequent calculations.\n",
    "Initially, all six metrics available in relaimpo are calculated:"
   ]
  },
  {
   "cell_type": "markdown",
   "metadata": {},
   "source": [
    "# Libray relaimpo のインストール\n",
    "\n",
    "著作権の関係上CRAN上からインストールできるrelaimpoパッケージはpmvdがない．\n",
    "http://prof.beuth-hochschule.de/groemping/software/relaimpo/\n",
    "から\"relaimp_2.2-3.tar.gz\"をダウンロードしていかのコマンドでインストールできる．\n",
    "パッケージインストールについて．https://stats.biopapyrus.jp/r/basic/package.html"
   ]
  },
  {
   "cell_type": "code",
   "execution_count": 5,
   "metadata": {},
   "outputs": [],
   "source": [
    "#install.packages(\"relaimpo_2.2-3.tar.gz\", repos = NULL, type = \"source\")\n",
    "library(relaimpo)"
   ]
  },
  {
   "cell_type": "code",
   "execution_count": 12,
   "metadata": {},
   "outputs": [
    {
     "name": "stderr",
     "output_type": "stream",
     "text": [
      "Warning message in rev(variances[[p]]) - variances[[p + 1]]:\n",
      "“Recycling array of length 1 in vector-array arithmetic is deprecated.\n",
      "  Use c() or as.vector() instead.\n",
      "”"
     ]
    }
   ],
   "source": [
    "metrics <- calc.relimp(linmod, type=c(\"lmg\",\"pmvd\",\"first\",\"last\",\"betasq\",\"pratt\"))"
   ]
  },
  {
   "cell_type": "markdown",
   "metadata": {},
   "source": [
    "# 3.1. Simple relative importance metrics"
   ]
  },
  {
   "cell_type": "markdown",
   "metadata": {},
   "source": [
    "##  The metric first\n",
    "\n",
    "one way of looking at relative importance is to compare, what each regressor alone is able to explain, i.e., to compare the R^2-values from p regression models with one regressor only. \n",
    "These univariate $R^2$-values are identical to the squared correlations of the regressors with the response.\n",
    "They are available in relaimpo under the name first. \n",
    "If regressors are correlated, the sum of these indivisual contributiions if often far higher than the over all R^2 of the model with all regressors together ,i.e., the overall model explains less than the sum of all indivisual models. This is also the case for the example data.\n",
    "\n",
    "相対的な重要性を確認する1つの方法は、各回帰分析だけで説明できることを比較することです。つまり、p回帰モデルのR ^ 2値を1つの回帰分析のみと比較します。\n",
    "これらの単変量$ R ^ 2 $値は、リグレッサと応答の相関の2乗と同じです。\n",
    "それらは最初の名前でrelaimpoで利用可能です。\n",
    "リグレッサーが相関している場合、これらの個別の寄与の合計は、すべてのリグレッサーを合わせたモデルのR ^ 2全体よりもはるかに高いことがよくあります。つまり、モデル全体の説明は、すべての個別モデルの合計よりも少なくなります。 これは、サンプルデータにも当てはまります。"
   ]
  },
  {
   "cell_type": "code",
   "execution_count": 14,
   "metadata": {},
   "outputs": [
    {
     "data": {
      "text/html": [
       "<table>\n",
       "<thead><tr><th scope=col>Agriculture</th><th scope=col>Examination</th><th scope=col>Education</th><th scope=col>Catholic</th><th scope=col>Infant.Mortality</th></tr></thead>\n",
       "<tbody>\n",
       "\t<tr><td>0.1246649</td><td>0.4171645</td><td>0.4406156</td><td>0.2150035</td><td>0.1735189</td></tr>\n",
       "</tbody>\n",
       "</table>\n"
      ],
      "text/latex": [
       "\\begin{tabular}{lllll}\n",
       " Agriculture & Examination & Education & Catholic & Infant.Mortality\\\\\n",
       "\\hline\n",
       "\t 0.1246649 & 0.4171645 & 0.4406156 & 0.2150035 & 0.1735189\\\\\n",
       "\\end{tabular}\n"
      ],
      "text/markdown": [
       "\n",
       "| Agriculture | Examination | Education | Catholic | Infant.Mortality |\n",
       "|---|---|---|---|---|\n",
       "| 0.1246649 | 0.4171645 | 0.4406156 | 0.2150035 | 0.1735189 |\n",
       "\n"
      ],
      "text/plain": [
       "     Agriculture Examination Education Catholic  Infant.Mortality\n",
       "[1,] 0.1246649   0.4171645   0.4406156 0.2150035 0.1735189       "
      ]
     },
     "metadata": {},
     "output_type": "display_data"
    },
    {
     "data": {
      "text/html": [
       "<dl class=dl-horizontal>\n",
       "\t<dt>Agriculture</dt>\n",
       "\t\t<dd>0.124664909905748</dd>\n",
       "\t<dt>Examination</dt>\n",
       "\t\t<dd>0.417164470500591</dd>\n",
       "\t<dt>Education</dt>\n",
       "\t\t<dd>0.440615646723924</dd>\n",
       "\t<dt>Catholic</dt>\n",
       "\t\t<dd>0.215003501618544</dd>\n",
       "\t<dt>Infant.Mortality</dt>\n",
       "\t\t<dd>0.173518927324862</dd>\n",
       "</dl>\n"
      ],
      "text/latex": [
       "\\begin{description*}\n",
       "\\item[Agriculture] 0.124664909905748\n",
       "\\item[Examination] 0.417164470500591\n",
       "\\item[Education] 0.440615646723924\n",
       "\\item[Catholic] 0.215003501618544\n",
       "\\item[Infant.Mortality] 0.173518927324862\n",
       "\\end{description*}\n"
      ],
      "text/markdown": [
       "Agriculture\n",
       ":   0.124664909905748Examination\n",
       ":   0.417164470500591Education\n",
       ":   0.440615646723924Catholic\n",
       ":   0.215003501618544Infant.Mortality\n",
       ":   0.173518927324862\n",
       "\n"
      ],
      "text/plain": [
       "     Agriculture      Examination        Education         Catholic \n",
       "       0.1246649        0.4171645        0.4406156        0.2150035 \n",
       "Infant.Mortality \n",
       "       0.1735189 "
      ]
     },
     "metadata": {},
     "output_type": "display_data"
    }
   ],
   "source": [
    "cor(swiss[,1],swiss[,2:6])**2\n",
    "metrics$first"
   ]
  },
  {
   "cell_type": "markdown",
   "metadata": {},
   "source": [
    "Note that Examination, te only insignificant variable in the linear model, looks second most important, when using this metric.\n",
    "first is the only metric that is completely ignorant of the other regressors in the model, no adjustment takes place.\n",
    "Thus, this metric does not comply with the difinition of relative importtance by A, in that it only uses the direct effect\n",
    "Also, it is not suitable for decompasing R^2 into contributions from individual regressors, since the contributions do not naturally add up to R^2.\n",
    "\n",
    "このメトリックを使用する場合、線形モデルでは重要でない変数のみである検査が2番目に重要に見えることに注意してください。\n",
    "1つ目は、モデル内の他のリグレッサーを完全に認識しない唯一のメトリックであり、調整は行われません。\n",
    "したがって、このメトリックは、直接効果のみを使用するという点で、Aによる相対的な重要性の定義に準拠していません。\n",
    "また、寄与がR ^ 2に自然に加算されないため、R ^ 2を個々のリグレッサーからの寄与に分解するのには適していません。"
   ]
  },
  {
   "cell_type": "markdown",
   "metadata": {},
   "source": [
    "## The metric last\n",
    "相対的な重要性を調べる別の方法は、利用可能な他のすべてのリグレッサーに加えて、各リグレッサーが説明できることを比較することです。 ここでは、このリグレッサを最後のリグレッサとして含めると、各リグレッサにR2の増加が割り当てられます。\n",
    "このアプローチは、lastという名前でrelaimpoに実装されています。\n",
    "リグレッサが相関している場合、これらの寄与はR2全体に加算されませんが、通常はR2全体よりもはるかに少なくなります。 Rの線形モデルからの直接計算は、関数drop1を使用して取得できます。 （この関数によって計算された二乗和は、SASユーザーにはタイプIII SSとして知られています。）"
   ]
  },
  {
   "cell_type": "code",
   "execution_count": 15,
   "metadata": {},
   "outputs": [
    {
     "data": {
      "text/html": [
       "<table>\n",
       "<thead><tr><th></th><th scope=col>Df</th><th scope=col>Sum of Sq</th><th scope=col>RSS</th><th scope=col>AIC</th></tr></thead>\n",
       "<tbody>\n",
       "\t<tr><th scope=row>&lt;none&gt;</th><td>NA        </td><td>        NA</td><td>2105.043  </td><td>190.6913  </td></tr>\n",
       "\t<tr><th scope=row>Agriculture</th><td> 1        </td><td> 307.71611</td><td>2412.759  </td><td>195.1038  </td></tr>\n",
       "\t<tr><th scope=row>Examination</th><td> 1        </td><td>  53.02656</td><td>2158.069  </td><td>189.8606  </td></tr>\n",
       "\t<tr><th scope=row>Education</th><td> 1        </td><td>1162.56091</td><td>3267.604  </td><td>209.3582  </td></tr>\n",
       "\t<tr><th scope=row>Catholic</th><td> 1        </td><td> 447.70789</td><td>2552.751  </td><td>197.7546  </td></tr>\n",
       "\t<tr><th scope=row>Infant.Mortality</th><td> 1        </td><td> 408.75050</td><td>2513.793  </td><td>197.0318  </td></tr>\n",
       "</tbody>\n",
       "</table>\n"
      ],
      "text/latex": [
       "\\begin{tabular}{r|llll}\n",
       "  & Df & Sum of Sq & RSS & AIC\\\\\n",
       "\\hline\n",
       "\t<none> & NA         &         NA & 2105.043   & 190.6913  \\\\\n",
       "\tAgriculture &  1         &  307.71611 & 2412.759   & 195.1038  \\\\\n",
       "\tExamination &  1         &   53.02656 & 2158.069   & 189.8606  \\\\\n",
       "\tEducation &  1         & 1162.56091 & 3267.604   & 209.3582  \\\\\n",
       "\tCatholic &  1         &  447.70789 & 2552.751   & 197.7546  \\\\\n",
       "\tInfant.Mortality &  1         &  408.75050 & 2513.793   & 197.0318  \\\\\n",
       "\\end{tabular}\n"
      ],
      "text/markdown": [
       "\n",
       "| <!--/--> | Df | Sum of Sq | RSS | AIC |\n",
       "|---|---|---|---|---|\n",
       "| <none> | NA         |         NA | 2105.043   | 190.6913   |\n",
       "| Agriculture |  1         |  307.71611 | 2412.759   | 195.1038   |\n",
       "| Examination |  1         |   53.02656 | 2158.069   | 189.8606   |\n",
       "| Education |  1         | 1162.56091 | 3267.604   | 209.3582   |\n",
       "| Catholic |  1         |  447.70789 | 2552.751   | 197.7546   |\n",
       "| Infant.Mortality |  1         |  408.75050 | 2513.793   | 197.0318   |\n",
       "\n"
      ],
      "text/plain": [
       "                 Df Sum of Sq  RSS      AIC     \n",
       "<none>           NA         NA 2105.043 190.6913\n",
       "Agriculture       1  307.71611 2412.759 195.1038\n",
       "Examination       1   53.02656 2158.069 189.8606\n",
       "Education         1 1162.56091 3267.604 209.3582\n",
       "Catholic          1  447.70789 2552.751 197.7546\n",
       "Infant.Mortality  1  408.75050 2513.793 197.0318"
      ]
     },
     "metadata": {},
     "output_type": "display_data"
    }
   ],
   "source": [
    "drop1(linmod)"
   ]
  },
  {
   "cell_type": "code",
   "execution_count": 39,
   "metadata": {},
   "outputs": [
    {
     "data": {
      "text/html": [
       "<ol class=list-inline>\n",
       "\t<li>0.0428696071254938</li>\n",
       "\t<li>0.00738741851512438</li>\n",
       "\t<li>0.161962693077336</li>\n",
       "\t<li>0.0623726258274236</li>\n",
       "\t<li>0.0569452587324974</li>\n",
       "</ol>\n"
      ],
      "text/latex": [
       "\\begin{enumerate*}\n",
       "\\item 0.0428696071254938\n",
       "\\item 0.00738741851512438\n",
       "\\item 0.161962693077336\n",
       "\\item 0.0623726258274236\n",
       "\\item 0.0569452587324974\n",
       "\\end{enumerate*}\n"
      ],
      "text/markdown": [
       "1. 0.0428696071254938\n",
       "2. 0.00738741851512438\n",
       "3. 0.161962693077336\n",
       "4. 0.0623726258274236\n",
       "5. 0.0569452587324974\n",
       "\n",
       "\n"
      ],
      "text/plain": [
       "[1] 0.042869607 0.007387419 0.161962693 0.062372626 0.056945259"
      ]
     },
     "metadata": {},
     "output_type": "display_data"
    }
   ],
   "source": [
    "TotalSS <- (nrow(swiss)-1)*var(swiss$Fertility) # 全変動．\n",
    "drop1(linmod)$\"Sum of Sq\"[2:6]/TotalSS"
   ]
  },
  {
   "cell_type": "code",
   "execution_count": 40,
   "metadata": {},
   "outputs": [
    {
     "data": {
      "text/html": [
       "<dl class=dl-horizontal>\n",
       "\t<dt>Agriculture</dt>\n",
       "\t\t<dd>0.042869607125494</dd>\n",
       "\t<dt>Examination</dt>\n",
       "\t\t<dd>0.00738741851512431</dd>\n",
       "\t<dt>Education</dt>\n",
       "\t\t<dd>0.161962693077336</dd>\n",
       "\t<dt>Catholic</dt>\n",
       "\t\t<dd>0.0623726258274238</dd>\n",
       "\t<dt>Infant.Mortality</dt>\n",
       "\t\t<dd>0.0569452587324973</dd>\n",
       "</dl>\n"
      ],
      "text/latex": [
       "\\begin{description*}\n",
       "\\item[Agriculture] 0.042869607125494\n",
       "\\item[Examination] 0.00738741851512431\n",
       "\\item[Education] 0.161962693077336\n",
       "\\item[Catholic] 0.0623726258274238\n",
       "\\item[Infant.Mortality] 0.0569452587324973\n",
       "\\end{description*}\n"
      ],
      "text/markdown": [
       "Agriculture\n",
       ":   0.042869607125494Examination\n",
       ":   0.00738741851512431Education\n",
       ":   0.161962693077336Catholic\n",
       ":   0.0623726258274238Infant.Mortality\n",
       ":   0.0569452587324973\n",
       "\n"
      ],
      "text/plain": [
       "     Agriculture      Examination        Education         Catholic \n",
       "     0.042869607      0.007387419      0.161962693      0.062372626 \n",
       "Infant.Mortality \n",
       "     0.056945259 "
      ]
     },
     "metadata": {},
     "output_type": "display_data"
    }
   ],
   "source": [
    "metrics$last "
   ]
  },
  {
   "cell_type": "markdown",
   "metadata": {},
   "source": [
    "with group"
   ]
  },
  {
   "cell_type": "code",
   "execution_count": 8,
   "metadata": {
    "scrolled": true
   },
   "outputs": [
    {
     "data": {
      "text/html": [
       "<table>\n",
       "<thead><tr><th></th><th scope=col>Fertility</th><th scope=col>Agriculture</th><th scope=col>Examination</th><th scope=col>Education</th><th scope=col>Catholic</th><th scope=col>Infant.Mortality</th></tr></thead>\n",
       "<tbody>\n",
       "\t<tr><th scope=row>Courtelary</th><td>80.2  </td><td>17.0  </td><td>15    </td><td>12    </td><td>  9.96</td><td>22.2  </td></tr>\n",
       "\t<tr><th scope=row>Delemont</th><td>83.1  </td><td>45.1  </td><td> 6    </td><td> 9    </td><td> 84.84</td><td>22.2  </td></tr>\n",
       "\t<tr><th scope=row>Franches-Mnt</th><td>92.5  </td><td>39.7  </td><td> 5    </td><td> 5    </td><td> 93.40</td><td>20.2  </td></tr>\n",
       "\t<tr><th scope=row>Moutier</th><td>85.8  </td><td>36.5  </td><td>12    </td><td> 7    </td><td> 33.77</td><td>20.3  </td></tr>\n",
       "\t<tr><th scope=row>Neuveville</th><td>76.9  </td><td>43.5  </td><td>17    </td><td>15    </td><td>  5.16</td><td>20.6  </td></tr>\n",
       "\t<tr><th scope=row>Porrentruy</th><td>76.1  </td><td>35.3  </td><td> 9    </td><td> 7    </td><td> 90.57</td><td>26.6  </td></tr>\n",
       "\t<tr><th scope=row>Broye</th><td>83.8  </td><td>70.2  </td><td>16    </td><td> 7    </td><td> 92.85</td><td>23.6  </td></tr>\n",
       "\t<tr><th scope=row>Glane</th><td>92.4  </td><td>67.8  </td><td>14    </td><td> 8    </td><td> 97.16</td><td>24.9  </td></tr>\n",
       "\t<tr><th scope=row>Gruyere</th><td>82.4  </td><td>53.3  </td><td>12    </td><td> 7    </td><td> 97.67</td><td>21.0  </td></tr>\n",
       "\t<tr><th scope=row>Sarine</th><td>82.9  </td><td>45.2  </td><td>16    </td><td>13    </td><td> 91.38</td><td>24.4  </td></tr>\n",
       "\t<tr><th scope=row>Veveyse</th><td>87.1  </td><td>64.5  </td><td>14    </td><td> 6    </td><td> 98.61</td><td>24.5  </td></tr>\n",
       "\t<tr><th scope=row>Aigle</th><td>64.1  </td><td>62.0  </td><td>21    </td><td>12    </td><td>  8.52</td><td>16.5  </td></tr>\n",
       "\t<tr><th scope=row>Aubonne</th><td>66.9  </td><td>67.5  </td><td>14    </td><td> 7    </td><td>  2.27</td><td>19.1  </td></tr>\n",
       "\t<tr><th scope=row>Avenches</th><td>68.9  </td><td>60.7  </td><td>19    </td><td>12    </td><td>  4.43</td><td>22.7  </td></tr>\n",
       "\t<tr><th scope=row>Cossonay</th><td>61.7  </td><td>69.3  </td><td>22    </td><td> 5    </td><td>  2.82</td><td>18.7  </td></tr>\n",
       "\t<tr><th scope=row>Echallens</th><td>68.3  </td><td>72.6  </td><td>18    </td><td> 2    </td><td> 24.20</td><td>21.2  </td></tr>\n",
       "\t<tr><th scope=row>Grandson</th><td>71.7  </td><td>34.0  </td><td>17    </td><td> 8    </td><td>  3.30</td><td>20.0  </td></tr>\n",
       "\t<tr><th scope=row>Lausanne</th><td>55.7  </td><td>19.4  </td><td>26    </td><td>28    </td><td> 12.11</td><td>20.2  </td></tr>\n",
       "\t<tr><th scope=row>La Vallee</th><td>54.3  </td><td>15.2  </td><td>31    </td><td>20    </td><td>  2.15</td><td>10.8  </td></tr>\n",
       "\t<tr><th scope=row>Lavaux</th><td>65.1  </td><td>73.0  </td><td>19    </td><td> 9    </td><td>  2.84</td><td>20.0  </td></tr>\n",
       "\t<tr><th scope=row>Morges</th><td>65.5  </td><td>59.8  </td><td>22    </td><td>10    </td><td>  5.23</td><td>18.0  </td></tr>\n",
       "\t<tr><th scope=row>Moudon</th><td>65.0  </td><td>55.1  </td><td>14    </td><td> 3    </td><td>  4.52</td><td>22.4  </td></tr>\n",
       "\t<tr><th scope=row>Nyone</th><td>56.6  </td><td>50.9  </td><td>22    </td><td>12    </td><td> 15.14</td><td>16.7  </td></tr>\n",
       "\t<tr><th scope=row>Orbe</th><td>57.4  </td><td>54.1  </td><td>20    </td><td> 6    </td><td>  4.20</td><td>15.3  </td></tr>\n",
       "\t<tr><th scope=row>Oron</th><td>72.5  </td><td>71.2  </td><td>12    </td><td> 1    </td><td>  2.40</td><td>21.0  </td></tr>\n",
       "\t<tr><th scope=row>Payerne</th><td>74.2  </td><td>58.1  </td><td>14    </td><td> 8    </td><td>  5.23</td><td>23.8  </td></tr>\n",
       "\t<tr><th scope=row>Paysd'enhaut</th><td>72.0  </td><td>63.5  </td><td> 6    </td><td> 3    </td><td>  2.56</td><td>18.0  </td></tr>\n",
       "\t<tr><th scope=row>Rolle</th><td>60.5  </td><td>60.8  </td><td>16    </td><td>10    </td><td>  7.72</td><td>16.3  </td></tr>\n",
       "\t<tr><th scope=row>Vevey</th><td>58.3  </td><td>26.8  </td><td>25    </td><td>19    </td><td> 18.46</td><td>20.9  </td></tr>\n",
       "\t<tr><th scope=row>Yverdon</th><td>65.4  </td><td>49.5  </td><td>15    </td><td> 8    </td><td>  6.10</td><td>22.5  </td></tr>\n",
       "\t<tr><th scope=row>Conthey</th><td>75.5  </td><td>85.9  </td><td> 3    </td><td> 2    </td><td> 99.71</td><td>15.1  </td></tr>\n",
       "\t<tr><th scope=row>Entremont</th><td>69.3  </td><td>84.9  </td><td> 7    </td><td> 6    </td><td> 99.68</td><td>19.8  </td></tr>\n",
       "\t<tr><th scope=row>Herens</th><td>77.3  </td><td>89.7  </td><td> 5    </td><td> 2    </td><td>100.00</td><td>18.3  </td></tr>\n",
       "\t<tr><th scope=row>Martigwy</th><td>70.5  </td><td>78.2  </td><td>12    </td><td> 6    </td><td> 98.96</td><td>19.4  </td></tr>\n",
       "\t<tr><th scope=row>Monthey</th><td>79.4  </td><td>64.9  </td><td> 7    </td><td> 3    </td><td> 98.22</td><td>20.2  </td></tr>\n",
       "\t<tr><th scope=row>St Maurice</th><td>65.0  </td><td>75.9  </td><td> 9    </td><td> 9    </td><td> 99.06</td><td>17.8  </td></tr>\n",
       "\t<tr><th scope=row>Sierre</th><td>92.2  </td><td>84.6  </td><td> 3    </td><td> 3    </td><td> 99.46</td><td>16.3  </td></tr>\n",
       "\t<tr><th scope=row>Sion</th><td>79.3  </td><td>63.1  </td><td>13    </td><td>13    </td><td> 96.83</td><td>18.1  </td></tr>\n",
       "\t<tr><th scope=row>Boudry</th><td>70.4  </td><td>38.4  </td><td>26    </td><td>12    </td><td>  5.62</td><td>20.3  </td></tr>\n",
       "\t<tr><th scope=row>La Chauxdfnd</th><td>65.7  </td><td> 7.7  </td><td>29    </td><td>11    </td><td> 13.79</td><td>20.5  </td></tr>\n",
       "\t<tr><th scope=row>Le Locle</th><td>72.7  </td><td>16.7  </td><td>22    </td><td>13    </td><td> 11.22</td><td>18.9  </td></tr>\n",
       "\t<tr><th scope=row>Neuchatel</th><td>64.4  </td><td>17.6  </td><td>35    </td><td>32    </td><td> 16.92</td><td>23.0  </td></tr>\n",
       "\t<tr><th scope=row>Val de Ruz</th><td>77.6  </td><td>37.6  </td><td>15    </td><td> 7    </td><td>  4.97</td><td>20.0  </td></tr>\n",
       "\t<tr><th scope=row>ValdeTravers</th><td>67.6  </td><td>18.7  </td><td>25    </td><td> 7    </td><td>  8.65</td><td>19.5  </td></tr>\n",
       "\t<tr><th scope=row>V. De Geneve</th><td>35.0  </td><td> 1.2  </td><td>37    </td><td>53    </td><td> 42.34</td><td>18.0  </td></tr>\n",
       "\t<tr><th scope=row>Rive Droite</th><td>44.7  </td><td>46.6  </td><td>16    </td><td>29    </td><td> 50.43</td><td>18.2  </td></tr>\n",
       "\t<tr><th scope=row>Rive Gauche</th><td>42.8  </td><td>27.7  </td><td>22    </td><td>29    </td><td> 58.33</td><td>19.3  </td></tr>\n",
       "</tbody>\n",
       "</table>\n"
      ],
      "text/latex": [
       "\\begin{tabular}{r|llllll}\n",
       "  & Fertility & Agriculture & Examination & Education & Catholic & Infant.Mortality\\\\\n",
       "\\hline\n",
       "\tCourtelary & 80.2   & 17.0   & 15     & 12     &   9.96 & 22.2  \\\\\n",
       "\tDelemont & 83.1   & 45.1   &  6     &  9     &  84.84 & 22.2  \\\\\n",
       "\tFranches-Mnt & 92.5   & 39.7   &  5     &  5     &  93.40 & 20.2  \\\\\n",
       "\tMoutier & 85.8   & 36.5   & 12     &  7     &  33.77 & 20.3  \\\\\n",
       "\tNeuveville & 76.9   & 43.5   & 17     & 15     &   5.16 & 20.6  \\\\\n",
       "\tPorrentruy & 76.1   & 35.3   &  9     &  7     &  90.57 & 26.6  \\\\\n",
       "\tBroye & 83.8   & 70.2   & 16     &  7     &  92.85 & 23.6  \\\\\n",
       "\tGlane & 92.4   & 67.8   & 14     &  8     &  97.16 & 24.9  \\\\\n",
       "\tGruyere & 82.4   & 53.3   & 12     &  7     &  97.67 & 21.0  \\\\\n",
       "\tSarine & 82.9   & 45.2   & 16     & 13     &  91.38 & 24.4  \\\\\n",
       "\tVeveyse & 87.1   & 64.5   & 14     &  6     &  98.61 & 24.5  \\\\\n",
       "\tAigle & 64.1   & 62.0   & 21     & 12     &   8.52 & 16.5  \\\\\n",
       "\tAubonne & 66.9   & 67.5   & 14     &  7     &   2.27 & 19.1  \\\\\n",
       "\tAvenches & 68.9   & 60.7   & 19     & 12     &   4.43 & 22.7  \\\\\n",
       "\tCossonay & 61.7   & 69.3   & 22     &  5     &   2.82 & 18.7  \\\\\n",
       "\tEchallens & 68.3   & 72.6   & 18     &  2     &  24.20 & 21.2  \\\\\n",
       "\tGrandson & 71.7   & 34.0   & 17     &  8     &   3.30 & 20.0  \\\\\n",
       "\tLausanne & 55.7   & 19.4   & 26     & 28     &  12.11 & 20.2  \\\\\n",
       "\tLa Vallee & 54.3   & 15.2   & 31     & 20     &   2.15 & 10.8  \\\\\n",
       "\tLavaux & 65.1   & 73.0   & 19     &  9     &   2.84 & 20.0  \\\\\n",
       "\tMorges & 65.5   & 59.8   & 22     & 10     &   5.23 & 18.0  \\\\\n",
       "\tMoudon & 65.0   & 55.1   & 14     &  3     &   4.52 & 22.4  \\\\\n",
       "\tNyone & 56.6   & 50.9   & 22     & 12     &  15.14 & 16.7  \\\\\n",
       "\tOrbe & 57.4   & 54.1   & 20     &  6     &   4.20 & 15.3  \\\\\n",
       "\tOron & 72.5   & 71.2   & 12     &  1     &   2.40 & 21.0  \\\\\n",
       "\tPayerne & 74.2   & 58.1   & 14     &  8     &   5.23 & 23.8  \\\\\n",
       "\tPaysd'enhaut & 72.0   & 63.5   &  6     &  3     &   2.56 & 18.0  \\\\\n",
       "\tRolle & 60.5   & 60.8   & 16     & 10     &   7.72 & 16.3  \\\\\n",
       "\tVevey & 58.3   & 26.8   & 25     & 19     &  18.46 & 20.9  \\\\\n",
       "\tYverdon & 65.4   & 49.5   & 15     &  8     &   6.10 & 22.5  \\\\\n",
       "\tConthey & 75.5   & 85.9   &  3     &  2     &  99.71 & 15.1  \\\\\n",
       "\tEntremont & 69.3   & 84.9   &  7     &  6     &  99.68 & 19.8  \\\\\n",
       "\tHerens & 77.3   & 89.7   &  5     &  2     & 100.00 & 18.3  \\\\\n",
       "\tMartigwy & 70.5   & 78.2   & 12     &  6     &  98.96 & 19.4  \\\\\n",
       "\tMonthey & 79.4   & 64.9   &  7     &  3     &  98.22 & 20.2  \\\\\n",
       "\tSt Maurice & 65.0   & 75.9   &  9     &  9     &  99.06 & 17.8  \\\\\n",
       "\tSierre & 92.2   & 84.6   &  3     &  3     &  99.46 & 16.3  \\\\\n",
       "\tSion & 79.3   & 63.1   & 13     & 13     &  96.83 & 18.1  \\\\\n",
       "\tBoudry & 70.4   & 38.4   & 26     & 12     &   5.62 & 20.3  \\\\\n",
       "\tLa Chauxdfnd & 65.7   &  7.7   & 29     & 11     &  13.79 & 20.5  \\\\\n",
       "\tLe Locle & 72.7   & 16.7   & 22     & 13     &  11.22 & 18.9  \\\\\n",
       "\tNeuchatel & 64.4   & 17.6   & 35     & 32     &  16.92 & 23.0  \\\\\n",
       "\tVal de Ruz & 77.6   & 37.6   & 15     &  7     &   4.97 & 20.0  \\\\\n",
       "\tValdeTravers & 67.6   & 18.7   & 25     &  7     &   8.65 & 19.5  \\\\\n",
       "\tV. De Geneve & 35.0   &  1.2   & 37     & 53     &  42.34 & 18.0  \\\\\n",
       "\tRive Droite & 44.7   & 46.6   & 16     & 29     &  50.43 & 18.2  \\\\\n",
       "\tRive Gauche & 42.8   & 27.7   & 22     & 29     &  58.33 & 19.3  \\\\\n",
       "\\end{tabular}\n"
      ],
      "text/markdown": [
       "\n",
       "| <!--/--> | Fertility | Agriculture | Examination | Education | Catholic | Infant.Mortality |\n",
       "|---|---|---|---|---|---|---|\n",
       "| Courtelary | 80.2   | 17.0   | 15     | 12     |   9.96 | 22.2   |\n",
       "| Delemont | 83.1   | 45.1   |  6     |  9     |  84.84 | 22.2   |\n",
       "| Franches-Mnt | 92.5   | 39.7   |  5     |  5     |  93.40 | 20.2   |\n",
       "| Moutier | 85.8   | 36.5   | 12     |  7     |  33.77 | 20.3   |\n",
       "| Neuveville | 76.9   | 43.5   | 17     | 15     |   5.16 | 20.6   |\n",
       "| Porrentruy | 76.1   | 35.3   |  9     |  7     |  90.57 | 26.6   |\n",
       "| Broye | 83.8   | 70.2   | 16     |  7     |  92.85 | 23.6   |\n",
       "| Glane | 92.4   | 67.8   | 14     |  8     |  97.16 | 24.9   |\n",
       "| Gruyere | 82.4   | 53.3   | 12     |  7     |  97.67 | 21.0   |\n",
       "| Sarine | 82.9   | 45.2   | 16     | 13     |  91.38 | 24.4   |\n",
       "| Veveyse | 87.1   | 64.5   | 14     |  6     |  98.61 | 24.5   |\n",
       "| Aigle | 64.1   | 62.0   | 21     | 12     |   8.52 | 16.5   |\n",
       "| Aubonne | 66.9   | 67.5   | 14     |  7     |   2.27 | 19.1   |\n",
       "| Avenches | 68.9   | 60.7   | 19     | 12     |   4.43 | 22.7   |\n",
       "| Cossonay | 61.7   | 69.3   | 22     |  5     |   2.82 | 18.7   |\n",
       "| Echallens | 68.3   | 72.6   | 18     |  2     |  24.20 | 21.2   |\n",
       "| Grandson | 71.7   | 34.0   | 17     |  8     |   3.30 | 20.0   |\n",
       "| Lausanne | 55.7   | 19.4   | 26     | 28     |  12.11 | 20.2   |\n",
       "| La Vallee | 54.3   | 15.2   | 31     | 20     |   2.15 | 10.8   |\n",
       "| Lavaux | 65.1   | 73.0   | 19     |  9     |   2.84 | 20.0   |\n",
       "| Morges | 65.5   | 59.8   | 22     | 10     |   5.23 | 18.0   |\n",
       "| Moudon | 65.0   | 55.1   | 14     |  3     |   4.52 | 22.4   |\n",
       "| Nyone | 56.6   | 50.9   | 22     | 12     |  15.14 | 16.7   |\n",
       "| Orbe | 57.4   | 54.1   | 20     |  6     |   4.20 | 15.3   |\n",
       "| Oron | 72.5   | 71.2   | 12     |  1     |   2.40 | 21.0   |\n",
       "| Payerne | 74.2   | 58.1   | 14     |  8     |   5.23 | 23.8   |\n",
       "| Paysd'enhaut | 72.0   | 63.5   |  6     |  3     |   2.56 | 18.0   |\n",
       "| Rolle | 60.5   | 60.8   | 16     | 10     |   7.72 | 16.3   |\n",
       "| Vevey | 58.3   | 26.8   | 25     | 19     |  18.46 | 20.9   |\n",
       "| Yverdon | 65.4   | 49.5   | 15     |  8     |   6.10 | 22.5   |\n",
       "| Conthey | 75.5   | 85.9   |  3     |  2     |  99.71 | 15.1   |\n",
       "| Entremont | 69.3   | 84.9   |  7     |  6     |  99.68 | 19.8   |\n",
       "| Herens | 77.3   | 89.7   |  5     |  2     | 100.00 | 18.3   |\n",
       "| Martigwy | 70.5   | 78.2   | 12     |  6     |  98.96 | 19.4   |\n",
       "| Monthey | 79.4   | 64.9   |  7     |  3     |  98.22 | 20.2   |\n",
       "| St Maurice | 65.0   | 75.9   |  9     |  9     |  99.06 | 17.8   |\n",
       "| Sierre | 92.2   | 84.6   |  3     |  3     |  99.46 | 16.3   |\n",
       "| Sion | 79.3   | 63.1   | 13     | 13     |  96.83 | 18.1   |\n",
       "| Boudry | 70.4   | 38.4   | 26     | 12     |   5.62 | 20.3   |\n",
       "| La Chauxdfnd | 65.7   |  7.7   | 29     | 11     |  13.79 | 20.5   |\n",
       "| Le Locle | 72.7   | 16.7   | 22     | 13     |  11.22 | 18.9   |\n",
       "| Neuchatel | 64.4   | 17.6   | 35     | 32     |  16.92 | 23.0   |\n",
       "| Val de Ruz | 77.6   | 37.6   | 15     |  7     |   4.97 | 20.0   |\n",
       "| ValdeTravers | 67.6   | 18.7   | 25     |  7     |   8.65 | 19.5   |\n",
       "| V. De Geneve | 35.0   |  1.2   | 37     | 53     |  42.34 | 18.0   |\n",
       "| Rive Droite | 44.7   | 46.6   | 16     | 29     |  50.43 | 18.2   |\n",
       "| Rive Gauche | 42.8   | 27.7   | 22     | 29     |  58.33 | 19.3   |\n",
       "\n"
      ],
      "text/plain": [
       "             Fertility Agriculture Examination Education Catholic\n",
       "Courtelary   80.2      17.0        15          12          9.96  \n",
       "Delemont     83.1      45.1         6           9         84.84  \n",
       "Franches-Mnt 92.5      39.7         5           5         93.40  \n",
       "Moutier      85.8      36.5        12           7         33.77  \n",
       "Neuveville   76.9      43.5        17          15          5.16  \n",
       "Porrentruy   76.1      35.3         9           7         90.57  \n",
       "Broye        83.8      70.2        16           7         92.85  \n",
       "Glane        92.4      67.8        14           8         97.16  \n",
       "Gruyere      82.4      53.3        12           7         97.67  \n",
       "Sarine       82.9      45.2        16          13         91.38  \n",
       "Veveyse      87.1      64.5        14           6         98.61  \n",
       "Aigle        64.1      62.0        21          12          8.52  \n",
       "Aubonne      66.9      67.5        14           7          2.27  \n",
       "Avenches     68.9      60.7        19          12          4.43  \n",
       "Cossonay     61.7      69.3        22           5          2.82  \n",
       "Echallens    68.3      72.6        18           2         24.20  \n",
       "Grandson     71.7      34.0        17           8          3.30  \n",
       "Lausanne     55.7      19.4        26          28         12.11  \n",
       "La Vallee    54.3      15.2        31          20          2.15  \n",
       "Lavaux       65.1      73.0        19           9          2.84  \n",
       "Morges       65.5      59.8        22          10          5.23  \n",
       "Moudon       65.0      55.1        14           3          4.52  \n",
       "Nyone        56.6      50.9        22          12         15.14  \n",
       "Orbe         57.4      54.1        20           6          4.20  \n",
       "Oron         72.5      71.2        12           1          2.40  \n",
       "Payerne      74.2      58.1        14           8          5.23  \n",
       "Paysd'enhaut 72.0      63.5         6           3          2.56  \n",
       "Rolle        60.5      60.8        16          10          7.72  \n",
       "Vevey        58.3      26.8        25          19         18.46  \n",
       "Yverdon      65.4      49.5        15           8          6.10  \n",
       "Conthey      75.5      85.9         3           2         99.71  \n",
       "Entremont    69.3      84.9         7           6         99.68  \n",
       "Herens       77.3      89.7         5           2        100.00  \n",
       "Martigwy     70.5      78.2        12           6         98.96  \n",
       "Monthey      79.4      64.9         7           3         98.22  \n",
       "St Maurice   65.0      75.9         9           9         99.06  \n",
       "Sierre       92.2      84.6         3           3         99.46  \n",
       "Sion         79.3      63.1        13          13         96.83  \n",
       "Boudry       70.4      38.4        26          12          5.62  \n",
       "La Chauxdfnd 65.7       7.7        29          11         13.79  \n",
       "Le Locle     72.7      16.7        22          13         11.22  \n",
       "Neuchatel    64.4      17.6        35          32         16.92  \n",
       "Val de Ruz   77.6      37.6        15           7          4.97  \n",
       "ValdeTravers 67.6      18.7        25           7          8.65  \n",
       "V. De Geneve 35.0       1.2        37          53         42.34  \n",
       "Rive Droite  44.7      46.6        16          29         50.43  \n",
       "Rive Gauche  42.8      27.7        22          29         58.33  \n",
       "             Infant.Mortality\n",
       "Courtelary   22.2            \n",
       "Delemont     22.2            \n",
       "Franches-Mnt 20.2            \n",
       "Moutier      20.3            \n",
       "Neuveville   20.6            \n",
       "Porrentruy   26.6            \n",
       "Broye        23.6            \n",
       "Glane        24.9            \n",
       "Gruyere      21.0            \n",
       "Sarine       24.4            \n",
       "Veveyse      24.5            \n",
       "Aigle        16.5            \n",
       "Aubonne      19.1            \n",
       "Avenches     22.7            \n",
       "Cossonay     18.7            \n",
       "Echallens    21.2            \n",
       "Grandson     20.0            \n",
       "Lausanne     20.2            \n",
       "La Vallee    10.8            \n",
       "Lavaux       20.0            \n",
       "Morges       18.0            \n",
       "Moudon       22.4            \n",
       "Nyone        16.7            \n",
       "Orbe         15.3            \n",
       "Oron         21.0            \n",
       "Payerne      23.8            \n",
       "Paysd'enhaut 18.0            \n",
       "Rolle        16.3            \n",
       "Vevey        20.9            \n",
       "Yverdon      22.5            \n",
       "Conthey      15.1            \n",
       "Entremont    19.8            \n",
       "Herens       18.3            \n",
       "Martigwy     19.4            \n",
       "Monthey      20.2            \n",
       "St Maurice   17.8            \n",
       "Sierre       16.3            \n",
       "Sion         18.1            \n",
       "Boudry       20.3            \n",
       "La Chauxdfnd 20.5            \n",
       "Le Locle     18.9            \n",
       "Neuchatel    23.0            \n",
       "Val de Ruz   20.0            \n",
       "ValdeTravers 19.5            \n",
       "V. De Geneve 18.0            \n",
       "Rive Droite  18.2            \n",
       "Rive Gauche  19.3            "
      ]
     },
     "metadata": {},
     "output_type": "display_data"
    }
   ],
   "source": [
    "swiss"
   ]
  },
  {
   "cell_type": "code",
   "execution_count": 40,
   "metadata": {},
   "outputs": [],
   "source": [
    "x <- list( c(2,3), c(4,5) )"
   ]
  },
  {
   "cell_type": "code",
   "execution_count": 41,
   "metadata": {},
   "outputs": [
    {
     "data": {
      "text/html": [
       "<ol>\n",
       "\t<li><ol class=list-inline>\n",
       "\t<li>2</li>\n",
       "\t<li>3</li>\n",
       "</ol>\n",
       "</li>\n",
       "\t<li><ol class=list-inline>\n",
       "\t<li>4</li>\n",
       "\t<li>5</li>\n",
       "</ol>\n",
       "</li>\n",
       "</ol>\n"
      ],
      "text/latex": [
       "\\begin{enumerate}\n",
       "\\item \\begin{enumerate*}\n",
       "\\item 2\n",
       "\\item 3\n",
       "\\end{enumerate*}\n",
       "\n",
       "\\item \\begin{enumerate*}\n",
       "\\item 4\n",
       "\\item 5\n",
       "\\end{enumerate*}\n",
       "\n",
       "\\end{enumerate}\n"
      ],
      "text/markdown": [
       "1. 1. 2\n",
       "2. 3\n",
       "\n",
       "\n",
       "\n",
       "2. 1. 4\n",
       "2. 5\n",
       "\n",
       "\n",
       "\n",
       "\n",
       "\n"
      ],
      "text/plain": [
       "[[1]]\n",
       "[1] 2 3\n",
       "\n",
       "[[2]]\n",
       "[1] 4 5\n"
      ]
     },
     "metadata": {},
     "output_type": "display_data"
    }
   ],
   "source": [
    "x"
   ]
  },
  {
   "cell_type": "code",
   "execution_count": 44,
   "metadata": {},
   "outputs": [
    {
     "name": "stderr",
     "output_type": "stream",
     "text": [
      "Warning message in rev(variances[[p]]) - variances[[p + 1]]:\n",
      "“Recycling array of length 1 in vector-array arithmetic is deprecated.\n",
      "  Use c() or as.vector() instead.\n",
      "”"
     ]
    },
    {
     "data": {
      "text/plain": [
       "Response variable: Fertility \n",
       "Total response variance: 156.0425 \n",
       "Analysis based on 47 observations \n",
       "\n",
       "5 Regressors: \n",
       "Some regressors combined in groups: \n",
       "        Group  G1 : Agriculture Examination \n",
       "        Group  G2 : Education Catholic \n",
       "\n",
       " Relative importance of 3 (groups of) regressors assessed: \n",
       " G1 G2 Infant.Mortality \n",
       " \n",
       "Proportion of variance explained by model: 70.67%\n",
       "Metrics are not normalized (rela=FALSE). \n",
       "\n",
       "Relative importance metrics: \n",
       "\n",
       "                       lmg       last     first\n",
       "G1               0.2325205 0.04419118 0.4326045\n",
       "G2               0.3648598 0.16696713 0.5745071\n",
       "Infant.Mortality 0.1093547 0.05694526 0.1735189\n",
       "\n",
       "Average coefficients for different model sizes: \n",
       "\n",
       "                      1group    2groups    3groups\n",
       "Agriculture      -0.09399751 -0.1330163 -0.1721140\n",
       "Examination      -1.19502875 -0.6503273 -0.2580082\n",
       "Education        -0.78832926 -0.8604291 -0.8709401\n",
       "Catholic          0.11092095  0.1102423  0.1041153\n",
       "Infant.Mortality  1.78648597  1.3681381  1.0770481"
      ]
     },
     "metadata": {},
     "output_type": "display_data"
    }
   ],
   "source": [
    "calc.relimp(swiss,type=c(\"lmg\",\"last\",\"first\") ,rela=FALSE, groups=( x ))"
   ]
  },
  {
   "cell_type": "code",
   "execution_count": 45,
   "metadata": {
    "scrolled": true
   },
   "outputs": [
    {
     "name": "stderr",
     "output_type": "stream",
     "text": [
      "Warning message in rev(variances[[p]]) - variances[[p + 1]]:\n",
      "“Recycling array of length 1 in vector-array arithmetic is deprecated.\n",
      "  Use c() or as.vector() instead.\n",
      "”"
     ]
    },
    {
     "data": {
      "text/plain": [
       "Response variable: Fertility \n",
       "Total response variance: 156.0425 \n",
       "Analysis based on 47 observations \n",
       "\n",
       "5 Regressors: \n",
       "Agriculture Examination Education Catholic Infant.Mortality \n",
       "Proportion of variance explained by model: 70.67%\n",
       "Metrics are not normalized (rela=FALSE). \n",
       "\n",
       "Relative importance metrics: \n",
       "\n",
       "                        lmg        last     first\n",
       "Agriculture      0.05709122 0.042869607 0.1246649\n",
       "Examination      0.17117303 0.007387419 0.4171645\n",
       "Education        0.26013468 0.161962693 0.4406156\n",
       "Catholic         0.10557015 0.062372626 0.2150035\n",
       "Infant.Mortality 0.11276592 0.056945259 0.1735189\n",
       "\n",
       "Average coefficients for different model sizes: \n",
       "\n",
       "                         1X         2Xs         3Xs        4Xs        5Xs\n",
       "Agriculture       0.1942017  0.03949369 -0.06794018 -0.1380370 -0.1721140\n",
       "Examination      -1.0113173 -0.89693064 -0.72467898 -0.5056072 -0.2580082\n",
       "Education        -0.8623503 -0.77680153 -0.77395379 -0.8164207 -0.8709401\n",
       "Catholic          0.1388857  0.09709583  0.08377687  0.0903765  0.1041153\n",
       "Infant.Mortality  1.7864860  1.59438387  1.46135692  1.2717960  1.0770481"
      ]
     },
     "metadata": {},
     "output_type": "display_data"
    }
   ],
   "source": [
    "calc.relimp(swiss,type=c(\"lmg\",\"last\",\"first\") ,rela=FALSE )"
   ]
  },
  {
   "cell_type": "code",
   "execution_count": null,
   "metadata": {},
   "outputs": [],
   "source": []
  }
 ],
 "metadata": {
  "kernelspec": {
   "display_name": "R",
   "language": "R",
   "name": "ir"
  },
  "language_info": {
   "codemirror_mode": "r",
   "file_extension": ".r",
   "mimetype": "text/x-r-source",
   "name": "R",
   "pygments_lexer": "r",
   "version": "3.6.1"
  }
 },
 "nbformat": 4,
 "nbformat_minor": 4
}
