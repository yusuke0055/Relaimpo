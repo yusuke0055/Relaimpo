{
 "cells": [
  {
   "cell_type": "code",
   "execution_count": 1,
   "metadata": {},
   "outputs": [],
   "source": [
    "import pickle as pkl\n",
    "import numpy as np\n",
    "import pandas as pd\n",
    "import matplotlib.pyplot as plt\n",
    "from sklearn import linear_model\n",
    "from scipy import stats\n",
    "\n",
    "pd.set_option('display.max_columns', 100)\n",
    "pd.set_option('display.max_rows', 100)\n",
    "sl = slice(None)"
   ]
  },
  {
   "cell_type": "code",
   "execution_count": 2,
   "metadata": {},
   "outputs": [],
   "source": [
    "with open(\"../vgg/features/original/df/mean_std_df_maxpool_reflect.pkl\",\"rb\") as f:\n",
    "    vgg_original = pkl.load(f)\n",
    "with open(\"../vgg/features/scramble/df/mean_std_df_maxpool_reflect.pkl\",\"rb\") as f:\n",
    "    vgg_scramble = pkl.load(f)"
   ]
  },
  {
   "cell_type": "code",
   "execution_count": 3,
   "metadata": {},
   "outputs": [],
   "source": [
    "vgg_original = vgg_original.loc[:,(sl,\"mean\",sl)]\n",
    "vgg_scramble = vgg_scramble.loc[:,(sl,\"mean\",sl)]"
   ]
  },
  {
   "cell_type": "code",
   "execution_count": 4,
   "metadata": {},
   "outputs": [],
   "source": [
    "num = vgg_original.shape[0]"
   ]
  },
  {
   "cell_type": "code",
   "execution_count": 5,
   "metadata": {},
   "outputs": [],
   "source": [
    "vgg_original.loc[:,\"data\"] = [\"original\"]*num\n",
    "tmp = vgg_original.set_index([\"data\"],append=True)\n",
    "vgg_original = tmp.swaplevel(\"file_name\",\"data\")"
   ]
  },
  {
   "cell_type": "code",
   "execution_count": 6,
   "metadata": {},
   "outputs": [],
   "source": [
    "vgg_scramble.loc[:,\"data\"] = [\"scramble\"]*num\n",
    "tmp = vgg_scramble.set_index([\"data\"],append=True)\n",
    "vgg_scramble = tmp.swaplevel(\"file_name\",\"data\")"
   ]
  },
  {
   "cell_type": "code",
   "execution_count": 7,
   "metadata": {},
   "outputs": [],
   "source": [
    "vgg_all = pd.concat( [vgg_original,vgg_scramble],axis=0 )"
   ]
  },
  {
   "cell_type": "code",
   "execution_count": 8,
   "metadata": {},
   "outputs": [],
   "source": [
    "vgg_all_var = vgg_all.var()"
   ]
  },
  {
   "cell_type": "code",
   "execution_count": 47,
   "metadata": {},
   "outputs": [],
   "source": [
    "#vgg_all_st = vgg_all.apply(lambda x: x/x.std(), axis=0)\n",
    "#vgg_all.apply(lambda x: (x-x.mean())/x.std(), axis=0)"
   ]
  },
  {
   "cell_type": "code",
   "execution_count": 33,
   "metadata": {},
   "outputs": [],
   "source": [
    "D_dash = (vgg_all.loc[\"original\"] - vgg_all.loc[\"scramble\"])**2\n",
    "D_dash = np.sqrt( D_dash/vgg_all_var )"
   ]
  },
  {
   "cell_type": "code",
   "execution_count": 41,
   "metadata": {},
   "outputs": [],
   "source": [
    "layers = [\"relu1_1\",\"relu2_1\",\"relu3_1\",\"relu4_1\",\"relu5_1\"]\n",
    "D_dash_t_dict = {}"
   ]
  },
  {
   "cell_type": "code",
   "execution_count": 42,
   "metadata": {},
   "outputs": [
    {
     "name": "stdout",
     "output_type": "stream",
     "text": [
      "(10355, 64)\n",
      "(10355,)\n",
      "(10355, 128)\n",
      "(10355,)\n",
      "(10355, 256)\n",
      "(10355,)\n",
      "(10355, 512)\n",
      "(10355,)\n",
      "(10355, 512)\n",
      "(10355,)\n"
     ]
    }
   ],
   "source": [
    "for layer in layers:\n",
    "    D_dash_ti = D_dash.loc[:,(layer,sl,sl)]\n",
    "    print( D_dash_ti.shape )\n",
    "    D_dash_t = np.sqrt( (D_dash_ti**2).sum(axis=1) )\n",
    "    print( D_dash_t.shape )\n",
    "    D_dash_t_dict[layer] = D_dash_t"
   ]
  }
 ],
 "metadata": {
  "kernelspec": {
   "display_name": "Python 3",
   "language": "python",
   "name": "python3"
  },
  "language_info": {
   "codemirror_mode": {
    "name": "ipython",
    "version": 3
   },
   "file_extension": ".py",
   "mimetype": "text/x-python",
   "name": "python",
   "nbconvert_exporter": "python",
   "pygments_lexer": "ipython3",
   "version": "3.7.7"
  }
 },
 "nbformat": 4,
 "nbformat_minor": 2
}
