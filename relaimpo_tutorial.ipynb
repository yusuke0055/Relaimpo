{
 "cells": [
  {
   "cell_type": "code",
   "execution_count": 2,
   "metadata": {
    "scrolled": true
   },
   "outputs": [
    {
     "name": "stderr",
     "output_type": "stream",
     "text": [
      "Loading required package: MASS\n",
      "Loading required package: boot\n",
      "Loading required package: survey\n",
      "Loading required package: grid\n",
      "Loading required package: Matrix\n",
      "Loading required package: survival\n",
      "\n",
      "Attaching package: ‘survival’\n",
      "\n",
      "The following object is masked from ‘package:boot’:\n",
      "\n",
      "    aml\n",
      "\n",
      "\n",
      "Attaching package: ‘survey’\n",
      "\n",
      "The following object is masked from ‘package:graphics’:\n",
      "\n",
      "    dotchart\n",
      "\n",
      "Loading required package: mitools\n",
      "This is the global version of package relaimpo.\n",
      "\n",
      "If you are a non-US user, a version with the interesting additional metric pmvd is available\n",
      "\n",
      "from Ulrike Groempings web site at prof.beuth-hochschule.de/groemping.\n",
      "\n"
     ]
    }
   ],
   "source": [
    "#install.packages(\"relaimpo\")\n",
    "library(\"relaimpo\")"
   ]
  },
  {
   "cell_type": "code",
   "execution_count": 3,
   "metadata": {},
   "outputs": [],
   "source": [
    "data(swiss)"
   ]
  },
  {
   "cell_type": "code",
   "execution_count": 7,
   "metadata": {},
   "outputs": [
    {
     "data": {
      "text/plain": [
       "Response variable: Fertility \n",
       "Total response variance: 156.0425 \n",
       "Analysis based on 47 observations \n",
       "\n",
       "5 Regressors: \n",
       "Agriculture Examination Education Catholic Infant.Mortality \n",
       "Proportion of variance explained by model: 70.67%\n",
       "Metrics are normalized to sum to 100% (rela=TRUE). \n",
       "\n",
       "Relative importance metrics: \n",
       "\n",
       "                        lmg\n",
       "Agriculture      0.08078165\n",
       "Examination      0.24220256\n",
       "Education        0.36807952\n",
       "Catholic         0.14937728\n",
       "Infant.Mortality 0.15955899\n",
       "\n",
       "Average coefficients for different model sizes: \n",
       "\n",
       "                         1X         2Xs         3Xs        4Xs        5Xs\n",
       "Agriculture       0.1942017  0.03949369 -0.06794018 -0.1380370 -0.1721140\n",
       "Examination      -1.0113173 -0.89693064 -0.72467898 -0.5056072 -0.2580082\n",
       "Education        -0.8623503 -0.77680153 -0.77395379 -0.8164207 -0.8709401\n",
       "Catholic          0.1388857  0.09709583  0.08377687  0.0903765  0.1041153\n",
       "Infant.Mortality  1.7864860  1.59438387  1.46135692  1.2717960  1.0770481"
      ]
     },
     "metadata": {},
     "output_type": "display_data"
    }
   ],
   "source": [
    "calc.relimp(swiss, type = \"lmg\",rela=TRUE)"
   ]
  },
  {
   "cell_type": "code",
   "execution_count": 8,
   "metadata": {},
   "outputs": [
    {
     "name": "stderr",
     "output_type": "stream",
     "text": [
      "Warning message in rev(variances[[p]]) - variances[[p + 1]]:\n",
      "“Recycling array of length 1 in vector-array arithmetic is deprecated.\n",
      "  Use c() or as.vector() instead.\n",
      "”"
     ]
    },
    {
     "data": {
      "text/plain": [
       "Response variable: Fertility \n",
       "Total response variance: 156.0425 \n",
       "Analysis based on 47 observations \n",
       "\n",
       "5 Regressors: \n",
       "Agriculture Examination Education Catholic Infant.Mortality \n",
       "Proportion of variance explained by model: 70.67%\n",
       "Metrics are not normalized (rela=FALSE). \n",
       "\n",
       "Relative importance metrics: \n",
       "\n",
       "                        lmg        last     first     betasq      pratt\n",
       "Agriculture      0.05709122 0.042869607 0.1246649 0.09791973 -0.1104860\n",
       "Examination      0.17117303 0.007387419 0.4171645 0.02715186  0.1064274\n",
       "Education        0.26013468 0.161962693 0.4406156 0.44943721  0.4450046\n",
       "Catholic         0.10557015 0.062372626 0.2150035 0.12082578  0.1611768\n",
       "Infant.Mortality 0.11276592 0.056945259 0.1735189 0.06306928  0.1046122\n",
       "                    genizi          car\n",
       "Agriculture      0.0484169 0.0005674742\n",
       "Examination      0.1547082 0.1511339908\n",
       "Education        0.2719641 0.3232680710\n",
       "Catholic         0.1146800 0.1150731842\n",
       "Infant.Mortality 0.1169657 0.1166922814\n",
       "\n",
       "Average coefficients for different model sizes: \n",
       "\n",
       "                         1X         2Xs         3Xs        4Xs        5Xs\n",
       "Agriculture       0.1942017  0.03949369 -0.06794018 -0.1380370 -0.1721140\n",
       "Examination      -1.0113173 -0.89693064 -0.72467898 -0.5056072 -0.2580082\n",
       "Education        -0.8623503 -0.77680153 -0.77395379 -0.8164207 -0.8709401\n",
       "Catholic          0.1388857  0.09709583  0.08377687  0.0903765  0.1041153\n",
       "Infant.Mortality  1.7864860  1.59438387  1.46135692  1.2717960  1.0770481"
      ]
     },
     "metadata": {},
     "output_type": "display_data"
    }
   ],
   "source": [
    "calc.relimp(swiss,type = c(\"lmg\", \"last\", \"first\", \"betasq\", \"pratt\", \"genizi\", \"car\") )"
   ]
  },
  {
   "cell_type": "code",
   "execution_count": 7,
   "metadata": {
    "scrolled": false
   },
   "outputs": [
    {
     "name": "stderr",
     "output_type": "stream",
     "text": [
      "Warning message in rev(variances[[p]]) - variances[[p + 1]]:\n",
      "“Recycling array of length 1 in vector-array arithmetic is deprecated.\n",
      "  Use c() or as.vector() instead.\n",
      "”"
     ]
    },
    {
     "data": {
      "text/plain": [
       "Response variable: Fertility \n",
       "Total response variance: 156.0425 \n",
       "Analysis based on 47 observations \n",
       "\n",
       "5 Regressors: \n",
       "Agriculture Examination Education Catholic Infant.Mortality \n",
       "Proportion of variance explained by model: 70.67%\n",
       "Metrics are not normalized (rela=FALSE). \n",
       "\n",
       "Relative importance metrics: \n",
       "\n",
       "                        lmg        last     first     betasq      pratt\n",
       "Agriculture      0.05709122 0.042869607 0.1246649 0.09791973 -0.1104860\n",
       "Examination      0.17117303 0.007387419 0.4171645 0.02715186  0.1064274\n",
       "Education        0.26013468 0.161962693 0.4406156 0.44943721  0.4450046\n",
       "Catholic         0.10557015 0.062372626 0.2150035 0.12082578  0.1611768\n",
       "Infant.Mortality 0.11276592 0.056945259 0.1735189 0.06306928  0.1046122\n",
       "                    genizi          car\n",
       "Agriculture      0.0484169 0.0005674742\n",
       "Examination      0.1547082 0.1511339908\n",
       "Education        0.2719641 0.3232680710\n",
       "Catholic         0.1146800 0.1150731842\n",
       "Infant.Mortality 0.1169657 0.1166922814\n",
       "\n",
       "Average coefficients for different model sizes: \n",
       "\n",
       "                         1X         2Xs         3Xs        4Xs        5Xs\n",
       "Agriculture       0.1942017  0.03949369 -0.06794018 -0.1380370 -0.1721140\n",
       "Examination      -1.0113173 -0.89693064 -0.72467898 -0.5056072 -0.2580082\n",
       "Education        -0.8623503 -0.77680153 -0.77395379 -0.8164207 -0.8709401\n",
       "Catholic          0.1388857  0.09709583  0.08377687  0.0903765  0.1041153\n",
       "Infant.Mortality  1.7864860  1.59438387  1.46135692  1.2717960  1.0770481"
      ]
     },
     "metadata": {},
     "output_type": "display_data"
    },
    {
     "name": "stderr",
     "output_type": "stream",
     "text": [
      "Warning message in rev(variances[[p]]) - variances[[p + 1]]:\n",
      "“Recycling array of length 1 in vector-array arithmetic is deprecated.\n",
      "  Use c() or as.vector() instead.\n",
      "”"
     ]
    },
    {
     "data": {
      "text/plain": [
       "Response variable: Fertility \n",
       "Total response variance: 280.7706 \n",
       "Analysis based on 19 observations \n",
       "\n",
       "5 Regressors: \n",
       "Agriculture Examination Education Catholic Infant.Mortality \n",
       "Proportion of variance explained by model: 80.93%\n",
       "Metrics are normalized to sum to 100% (rela=TRUE). \n",
       "\n",
       "Relative importance metrics: \n",
       "\n",
       "                        lmg        last      first      betasq       pratt\n",
       "Agriculture      0.11486583 0.353055869 0.11306600 0.136299551 -0.19101959\n",
       "Examination      0.17190060 0.001476325 0.20205545 0.001777293  0.02915946\n",
       "Education        0.30508034 0.074753723 0.31131441 0.301904369  0.47173598\n",
       "Catholic         0.31494322 0.475491780 0.31290701 0.533989734  0.62898283\n",
       "Infant.Mortality 0.09321001 0.095222303 0.06065714 0.026029053  0.06114132\n",
       "\n",
       "Average coefficients for different model sizes: \n",
       "\n",
       "                         1X          2Xs         3Xs          4Xs         5Xs\n",
       "Agriculture       0.3642223 -0.006783255 -0.16636929 -0.229599451 -0.21989767\n",
       "Examination      -1.4207166 -0.540061683 -0.05947462  0.008361967 -0.07326973\n",
       "Education        -1.1118076 -1.171641212 -1.14221086 -0.901857999 -0.60205695\n",
       "Catholic          0.7923300  0.745030377  0.62073008  0.590074848  0.56916445\n",
       "Infant.Mortality  1.9642435  1.940427202  1.37998276  0.891605693  0.70754883"
      ]
     },
     "metadata": {},
     "output_type": "display_data"
    },
    {
     "name": "stderr",
     "output_type": "stream",
     "text": [
      "Warning message in rev(variances[[p]]) - variances[[p + 1]]:\n",
      "“Recycling array of length 1 in vector-array arithmetic is deprecated.\n",
      "  Use c() or as.vector() instead.\n",
      "”"
     ]
    },
    {
     "data": {
      "text/html": [
       "<table>\n",
       "<thead><tr><th></th><th scope=col>Fertility</th><th scope=col>Agriculture</th><th scope=col>Examination</th><th scope=col>Education</th><th scope=col>Catholic</th><th scope=col>Infant.Mortality</th></tr></thead>\n",
       "<tbody>\n",
       "\t<tr><th scope=row>Fertility</th><td> 1.0000000 </td><td> 0.35307918</td><td>-0.6458827 </td><td>-0.66378886</td><td> 0.4636847 </td><td> 0.41655603</td></tr>\n",
       "\t<tr><th scope=row>Agriculture</th><td> 0.3530792 </td><td> 1.00000000</td><td>-0.6865422 </td><td>-0.63952252</td><td> 0.4010951 </td><td>-0.06085861</td></tr>\n",
       "\t<tr><th scope=row>Examination</th><td>-0.6458827 </td><td>-0.68654221</td><td> 1.0000000 </td><td> 0.69841530</td><td>-0.5727418 </td><td>-0.11402160</td></tr>\n",
       "\t<tr><th scope=row>Education</th><td>-0.6637889 </td><td>-0.63952252</td><td> 0.6984153 </td><td> 1.00000000</td><td>-0.1538589 </td><td>-0.09932185</td></tr>\n",
       "\t<tr><th scope=row>Catholic</th><td> 0.4636847 </td><td> 0.40109505</td><td>-0.5727418 </td><td>-0.15385892</td><td> 1.0000000 </td><td> 0.17549591</td></tr>\n",
       "\t<tr><th scope=row>Infant.Mortality</th><td> 0.4165560 </td><td>-0.06085861</td><td>-0.1140216 </td><td>-0.09932185</td><td> 0.1754959 </td><td> 1.00000000</td></tr>\n",
       "</tbody>\n",
       "</table>\n"
      ],
      "text/latex": [
       "\\begin{tabular}{r|llllll}\n",
       "  & Fertility & Agriculture & Examination & Education & Catholic & Infant.Mortality\\\\\n",
       "\\hline\n",
       "\tFertility &  1.0000000  &  0.35307918 & -0.6458827  & -0.66378886 &  0.4636847  &  0.41655603\\\\\n",
       "\tAgriculture &  0.3530792  &  1.00000000 & -0.6865422  & -0.63952252 &  0.4010951  & -0.06085861\\\\\n",
       "\tExamination & -0.6458827  & -0.68654221 &  1.0000000  &  0.69841530 & -0.5727418  & -0.11402160\\\\\n",
       "\tEducation & -0.6637889  & -0.63952252 &  0.6984153  &  1.00000000 & -0.1538589  & -0.09932185\\\\\n",
       "\tCatholic &  0.4636847  &  0.40109505 & -0.5727418  & -0.15385892 &  1.0000000  &  0.17549591\\\\\n",
       "\tInfant.Mortality &  0.4165560  & -0.06085861 & -0.1140216  & -0.09932185 &  0.1754959  &  1.00000000\\\\\n",
       "\\end{tabular}\n"
      ],
      "text/markdown": [
       "\n",
       "| <!--/--> | Fertility | Agriculture | Examination | Education | Catholic | Infant.Mortality |\n",
       "|---|---|---|---|---|---|---|\n",
       "| Fertility |  1.0000000  |  0.35307918 | -0.6458827  | -0.66378886 |  0.4636847  |  0.41655603 |\n",
       "| Agriculture |  0.3530792  |  1.00000000 | -0.6865422  | -0.63952252 |  0.4010951  | -0.06085861 |\n",
       "| Examination | -0.6458827  | -0.68654221 |  1.0000000  |  0.69841530 | -0.5727418  | -0.11402160 |\n",
       "| Education | -0.6637889  | -0.63952252 |  0.6984153  |  1.00000000 | -0.1538589  | -0.09932185 |\n",
       "| Catholic |  0.4636847  |  0.40109505 | -0.5727418  | -0.15385892 |  1.0000000  |  0.17549591 |\n",
       "| Infant.Mortality |  0.4165560  | -0.06085861 | -0.1140216  | -0.09932185 |  0.1754959  |  1.00000000 |\n",
       "\n"
      ],
      "text/plain": [
       "                 Fertility  Agriculture Examination Education   Catholic  \n",
       "Fertility         1.0000000  0.35307918 -0.6458827  -0.66378886  0.4636847\n",
       "Agriculture       0.3530792  1.00000000 -0.6865422  -0.63952252  0.4010951\n",
       "Examination      -0.6458827 -0.68654221  1.0000000   0.69841530 -0.5727418\n",
       "Education        -0.6637889 -0.63952252  0.6984153   1.00000000 -0.1538589\n",
       "Catholic          0.4636847  0.40109505 -0.5727418  -0.15385892  1.0000000\n",
       "Infant.Mortality  0.4165560 -0.06085861 -0.1140216  -0.09932185  0.1754959\n",
       "                 Infant.Mortality\n",
       "Fertility         0.41655603     \n",
       "Agriculture      -0.06085861     \n",
       "Examination      -0.11402160     \n",
       "Education        -0.09932185     \n",
       "Catholic          0.17549591     \n",
       "Infant.Mortality  1.00000000     "
      ]
     },
     "metadata": {},
     "output_type": "display_data"
    },
    {
     "name": "stderr",
     "output_type": "stream",
     "text": [
      "Warning message in rev(variances[[p]]) - variances[[p + 1]]:\n",
      "“Recycling array of length 1 in vector-array arithmetic is deprecated.\n",
      "  Use c() or as.vector() instead.\n",
      "”"
     ]
    },
    {
     "data": {
      "text/plain": [
       "Response variable: Fertility \n",
       "Total response variance: 156.0425 \n",
       "Analysis based on 47 observations \n",
       "\n",
       "5 Regressors: \n",
       "Proportion of variance explained: 70.67%\n",
       "\n",
       "One Regressor always included in model: \n",
       " Education \n",
       "44.06 % of variance explained by this regressor \n",
       "\n",
       " Relative importance of 4 regressors assessed: \n",
       " Agriculture Examination Catholic Infant.Mortality \n",
       "26.61 % of variance decomposed among these \n",
       "\n",
       "Metrics are not normalized (rela=FALSE). \n",
       "\n",
       "Relative importance metrics: \n",
       "\n",
       "                        lmg        last       first     betasq      pratt\n",
       "Agriculture      0.03432758 0.042869607 0.008632775 0.05787163 0.02235157\n",
       "Examination      0.03884696 0.007387419 0.064868872 0.01390762 0.03003617\n",
       "Catholic         0.10165854 0.062372626 0.133891476 0.11796552 0.12567648\n",
       "Infant.Mortality 0.09128627 0.056945259 0.124164362 0.06244711 0.08805513"
      ]
     },
     "metadata": {},
     "output_type": "display_data"
    },
    {
     "name": "stderr",
     "output_type": "stream",
     "text": [
      "Warning message in rev(variances[[p]]) - variances[[p + 1]]:\n",
      "“Recycling array of length 1 in vector-array arithmetic is deprecated.\n",
      "  Use c() or as.vector() instead.\n",
      "”"
     ]
    },
    {
     "data": {
      "text/plain": [
       "Response variable: Fertility \n",
       "Total response variance: 215.6661 \n",
       "Analysis based on 47 observations \n",
       "\n",
       "5 Regressors: \n",
       "Some regressors combined in groups: \n",
       "        Group  G1 : Examination Education \n",
       "\n",
       " Relative importance of 4 (groups of) regressors assessed: \n",
       " G1 Agriculture Catholic Infant.Mortality \n",
       " \n",
       "Proportion of variance explained by model: 74.01%\n",
       "Metrics are not normalized (rela=FALSE). \n",
       "\n",
       "Relative importance metrics: \n",
       "\n",
       "                        lmg       last     first\n",
       "G1               0.49953751 0.39224182 0.6307919\n",
       "Agriculture      0.07636859 0.02153528 0.1497720\n",
       "Catholic         0.05614286 0.01776434 0.1363082\n",
       "Infant.Mortality 0.10801371 0.03827817 0.1690776\n",
       "\n",
       "Average coefficients for different model sizes: \n",
       "\n",
       "                     1group     2groups     3groups     4groups\n",
       "Agriculture       0.2426390  0.09581090 -0.02102877 -0.13783809\n",
       "Examination      -0.3580310 -0.32182157 -0.28867678 -0.25727647\n",
       "Education        -0.8201332 -0.85553230 -0.89525538 -0.93781515\n",
       "Catholic          0.1333066  0.08962258  0.06341285  0.07193345\n",
       "Infant.Mortality  2.2787886  1.98814590  1.73745564  1.19503671"
      ]
     },
     "metadata": {},
     "output_type": "display_data"
    },
    {
     "name": "stderr",
     "output_type": "stream",
     "text": [
      "Warning message in rev(variances[[p]]) - variances[[p + 1]]:\n",
      "“Recycling array of length 1 in vector-array arithmetic is deprecated.\n",
      "  Use c() or as.vector() instead.\n",
      "”"
     ]
    },
    {
     "data": {
      "text/plain": [
       "Response variable: Fertility \n",
       "Total response variance: 215.6661 \n",
       "Analysis based on 47 observations \n",
       "\n",
       "5 Regressors: \n",
       "Some regressors combined in groups: \n",
       "        Group  EduExam : Examination Education \n",
       "\n",
       " Relative importance of 4 (groups of) regressors assessed: \n",
       " EduExam Agriculture Catholic Infant.Mortality \n",
       " \n",
       "Proportion of variance explained by model: 74.01%\n",
       "Metrics are not normalized (rela=FALSE). \n",
       "\n",
       "Relative importance metrics: \n",
       "\n",
       "                        lmg       last     first\n",
       "EduExam          0.49953751 0.39224182 0.6307919\n",
       "Agriculture      0.07636859 0.02153528 0.1497720\n",
       "Catholic         0.05614286 0.01776434 0.1363082\n",
       "Infant.Mortality 0.10801371 0.03827817 0.1690776\n",
       "\n",
       "Average coefficients for different model sizes: \n",
       "\n",
       "                     1group     2groups     3groups     4groups\n",
       "Agriculture       0.2426390  0.09581090 -0.02102877 -0.13783809\n",
       "Examination      -0.3580310 -0.32182157 -0.28867678 -0.25727647\n",
       "Education        -0.8201332 -0.85553230 -0.89525538 -0.93781515\n",
       "Catholic          0.1333066  0.08962258  0.06341285  0.07193345\n",
       "Infant.Mortality  2.2787886  1.98814590  1.73745564  1.19503671"
      ]
     },
     "metadata": {},
     "output_type": "display_data"
    },
    {
     "name": "stderr",
     "output_type": "stream",
     "text": [
      "Warning message in rev(variances[[p]]) - variances[[p + 1]]:\n",
      "“Recycling array of length 1 in vector-array arithmetic is deprecated.\n",
      "  Use c() or as.vector() instead.\n",
      "”"
     ]
    },
    {
     "data": {
      "text/plain": [
       "Response variable: 1/time \n",
       "Total response variance: 1.393729 \n",
       "Analysis based on 48 observations \n",
       "\n",
       "5 Regressors: \n",
       "Some regressors combined in groups: \n",
       "        Group  poison : poison2 poison3 \n",
       "        Group  treat : treatB treatC treatD \n",
       "\n",
       " Relative importance of 2 (groups of) regressors assessed: \n",
       " poison treat \n",
       " \n",
       "Proportion of variance explained by model: 84.41%\n",
       "Metrics are not normalized (rela=FALSE). \n",
       "\n",
       "Relative importance metrics: \n",
       "\n",
       "             lmg      last     first\n",
       "poison 0.5324323 0.5324323 0.5324323\n",
       "treat  0.3116435 0.3116435 0.3116435\n",
       "\n",
       "Average coefficients for different model sizes: \n",
       "\n",
       "            1group    2groups\n",
       "poison2  0.4686413  0.4686413\n",
       "poison3  1.9964249  1.9964249\n",
       "treatB  -1.6574024 -1.6574024\n",
       "treatC  -0.5721354 -0.5721354\n",
       "treatD  -1.3583383 -1.3583383"
      ]
     },
     "metadata": {},
     "output_type": "display_data"
    },
    {
     "data": {
      "text/plain": [
       "Response variable: 1/time \n",
       "Total response variance: 1.393729 \n",
       "Analysis based on 48 observations \n",
       "\n",
       "11 Regressors: \n",
       "Some regressors combined in groups: \n",
       "        Group  poison : poison2 poison3 \n",
       "        Group  treat : treatB treatC treatD \n",
       "        Group  poison:treat : poison2:treatB poison3:treatB poison2:treatC poison3:treatC poison2:treatD poison3:treatD \n",
       "\n",
       " Relative importance of 3 (groups of) regressors assessed: \n",
       " poison treat poison:treat \n",
       " \n",
       "Proportion of variance explained by model: 86.81%\n",
       "Metrics are not normalized (rela=FALSE). \n",
       "\n",
       "Relative importance metrics: \n",
       "\n",
       "                    lmg\n",
       "poison       0.53243232\n",
       "treat        0.31164349\n",
       "poison:treat 0.02397933\n",
       "\n",
       "Average coefficients for different model sizes: \n",
       "\n",
       "                   1group    2groups     3groups\n",
       "poison2         0.4686413  0.4686413  0.78158915\n",
       "poison3         1.9964249  1.9964249  2.31580446\n",
       "treatB         -1.6574024 -1.6574024 -1.32341687\n",
       "treatC         -0.5721354 -0.5721354 -0.62415711\n",
       "treatD         -1.3583383 -1.3583383 -0.79719886\n",
       "poison2:treatB        NaN        NaN -0.55166088\n",
       "poison3:treatB        NaN        NaN -0.45029566\n",
       "poison2:treatC        NaN        NaN  0.06960632\n",
       "poison3:treatC        NaN        NaN  0.08645870\n",
       "poison2:treatD        NaN        NaN -0.76973705\n",
       "poison3:treatD        NaN        NaN -0.91368123"
      ]
     },
     "metadata": {},
     "output_type": "display_data"
    },
    {
     "data": {
      "image/png": "[encoded data removed]",
      "text/plain": [
       "Plot with title “Relative importances for Fertility”"
      ]
     },
     "metadata": {},
     "output_type": "display_data"
    }
   ],
   "source": [
    "#####################################################################\n",
    "### Example: relative importance of various socioeconomic indicators \n",
    "###          for Fertility in Switzerland\n",
    "### Fertility is first column of data set swiss\n",
    "#####################################################################\n",
    "data(swiss)\n",
    "\n",
    "    # calculation of all available relative importance metrics \n",
    "        # non-US version offers the additional metric \"pmvd\", \n",
    "        # i.e. call would be \n",
    "        # calc.relimp(cov(swiss), \n",
    "        # type = c(\"lmg\", \"pmvd\", \"last\", \"first\", \"betasq, \"pratt\"), \n",
    "        # rela = TRUE )\n",
    "    ## same analysis with formula or lm method and a few modified options\n",
    "    crf <- calc.relimp(Fertility~Agriculture+Examination+Education+Catholic+Infant.Mortality,swiss, \n",
    "        subset = Catholic>40,\n",
    "        type = c(\"lmg\", \"last\", \"first\", \"betasq\", \"pratt\"), rela = TRUE )\n",
    "    crf\n",
    "    linmod <- lm(Fertility~Agriculture+Examination+Education+Catholic+Infant.Mortality,swiss)\n",
    "    crlm <- calc.relimp(linmod, \n",
    "        type = c(\"lmg\", \"last\", \"first\", \"betasq\", \"pratt\", \"genizi\", \"car\"), rela = TRUE )\n",
    "    plot(crlm)\n",
    "    # bar plot of the relative importance metrics\n",
    "\n",
    "    #of statistical interest in this context: correlation matrix\n",
    "       cor(swiss)\n",
    "\n",
    "    #demonstration of conditioning on one regressor using always\n",
    "    calc.relimp(swiss, \n",
    "       type = c(\"lmg\", \"last\", \"first\", \"betasq\", \"pratt\"), rela = FALSE,\n",
    "       always = \"Education\" )\n",
    "\n",
    "    # using calc.relimp with grouping of two regressors\n",
    "    # and weights (not reasonable here, purely for demo purposes)\n",
    "    calc.relimp(swiss, \n",
    "       type = c(\"lmg\", \"last\", \"first\"), rela = FALSE,\n",
    "       groups = c(\"Education\",\"Examination\"), weights = abs(-23:23) )\n",
    "\n",
    "    # using calc.relimp with grouping of two regressors\n",
    "    # and a design object (not reasonable here, purely for demo purposes)\n",
    "    des <- svydesign(~1, data=swiss, weights=~abs(-23:23))\n",
    "    calc.relimp(swiss, \n",
    "       type = c(\"lmg\", \"last\", \"first\"), rela = FALSE,\n",
    "       groups = c(\"Education\",\"Examination\"), groupnames =\"EduExam\", design = des)\n",
    "\n",
    "    # calc.relimp with factors (betasq and pratt not possible)\n",
    "      # (calc.relimp would not be necessary here, \n",
    "      # because the experiment is balanced)\n",
    "    calc.relimp(1/time~poison+treat,data=poisons, rela = FALSE,\n",
    "         type = c(\"lmg\", \"last\", \"first\"))\n",
    "    # including also the interaction (lmg possible only)\n",
    "    calc.relimp(1/time~poison*treat,data=poisons, rela = FALSE)"
   ]
  }
 ],
 "metadata": {
  "kernelspec": {
   "display_name": "R",
   "language": "R",
   "name": "ir"
  },
  "language_info": {
   "codemirror_mode": "r",
   "file_extension": ".r",
   "mimetype": "text/x-r-source",
   "name": "R",
   "pygments_lexer": "r",
   "version": "3.6.1"
  }
 },
 "nbformat": 4,
 "nbformat_minor": 4
}
